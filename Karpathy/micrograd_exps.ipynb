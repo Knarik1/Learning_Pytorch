{
 "cells": [
  {
   "cell_type": "code",
   "execution_count": 69,
   "metadata": {},
   "outputs": [],
   "source": [
    "import math\n",
    "import random\n",
    "import numpy as np\n",
    "import matplotlib.pyplot as plt\n",
    "\n",
    "from graphviz import Digraph"
   ]
  },
  {
   "cell_type": "markdown",
   "metadata": {},
   "source": [
    "# One input derivative"
   ]
  },
  {
   "cell_type": "code",
   "execution_count": 22,
   "metadata": {},
   "outputs": [],
   "source": [
    "def f(x):\n",
    "    return 3*x**2 - 4*x + 5"
   ]
  },
  {
   "cell_type": "code",
   "execution_count": 23,
   "metadata": {},
   "outputs": [
    {
     "data": {
      "text/plain": [
       "array([-5.  , -4.75, -4.5 , -4.25, -4.  , -3.75, -3.5 , -3.25, -3.  ,\n",
       "       -2.75, -2.5 , -2.25, -2.  , -1.75, -1.5 , -1.25, -1.  , -0.75,\n",
       "       -0.5 , -0.25,  0.  ,  0.25,  0.5 ,  0.75,  1.  ,  1.25,  1.5 ,\n",
       "        1.75,  2.  ,  2.25,  2.5 ,  2.75,  3.  ,  3.25,  3.5 ,  3.75,\n",
       "        4.  ,  4.25,  4.5 ,  4.75])"
      ]
     },
     "execution_count": 23,
     "metadata": {},
     "output_type": "execute_result"
    }
   ],
   "source": [
    "xx = np.arange(-5, 5, 0.25)\n",
    "xx"
   ]
  },
  {
   "cell_type": "code",
   "execution_count": 24,
   "metadata": {},
   "outputs": [
    {
     "data": {
      "text/plain": [
       "array([100.    ,  91.6875,  83.75  ,  76.1875,  69.    ,  62.1875,\n",
       "        55.75  ,  49.6875,  44.    ,  38.6875,  33.75  ,  29.1875,\n",
       "        25.    ,  21.1875,  17.75  ,  14.6875,  12.    ,   9.6875,\n",
       "         7.75  ,   6.1875,   5.    ,   4.1875,   3.75  ,   3.6875,\n",
       "         4.    ,   4.6875,   5.75  ,   7.1875,   9.    ,  11.1875,\n",
       "        13.75  ,  16.6875,  20.    ,  23.6875,  27.75  ,  32.1875,\n",
       "        37.    ,  42.1875,  47.75  ,  53.6875])"
      ]
     },
     "execution_count": 24,
     "metadata": {},
     "output_type": "execute_result"
    }
   ],
   "source": [
    "yy = f(xx)\n",
    "yy"
   ]
  },
  {
   "cell_type": "code",
   "execution_count": 25,
   "metadata": {},
   "outputs": [
    {
     "data": {
      "image/png": "[encoded data removed]",
      "text/plain": [
       "<Figure size 432x288 with 1 Axes>"
      ]
     },
     "metadata": {
      "needs_background": "light"
     },
     "output_type": "display_data"
    }
   ],
   "source": [
    "plt.plot(xx, yy)\n",
    "plt.grid(which=\"major\")"
   ]
  },
  {
   "cell_type": "code",
   "execution_count": 26,
   "metadata": {},
   "outputs": [
    {
     "data": {
      "text/plain": [
       "0.0029999999995311555"
      ]
     },
     "execution_count": 26,
     "metadata": {},
     "output_type": "execute_result"
    }
   ],
   "source": [
    "h = 0.001\n",
    "x = 2/3\n",
    "\n",
    "(f(x+h) - f(x)) / h"
   ]
  },
  {
   "cell_type": "markdown",
   "metadata": {},
   "source": [
    "# Multiple input derivative"
   ]
  },
  {
   "cell_type": "code",
   "execution_count": 27,
   "metadata": {},
   "outputs": [
    {
     "data": {
      "text/plain": [
       "4.0"
      ]
     },
     "execution_count": 27,
     "metadata": {},
     "output_type": "execute_result"
    }
   ],
   "source": [
    "a = 2.0\n",
    "b = -3.0\n",
    "c = 10.0\n",
    "d = a * b + c\n",
    "d"
   ]
  },
  {
   "cell_type": "code",
   "execution_count": 28,
   "metadata": {},
   "outputs": [
    {
     "name": "stdout",
     "output_type": "stream",
     "text": [
      "4.0\n",
      "4.0001\n",
      "slope 0.9999999999976694\n"
     ]
    }
   ],
   "source": [
    "h = 0.0001\n",
    "\n",
    "a = 2.0\n",
    "b = -3.0\n",
    "c = 10.0\n",
    "\n",
    "d1 = a*b + c\n",
    "c += h\n",
    "d2 = a*b + c\n",
    "\n",
    "print(d1)\n",
    "print(d2)\n",
    "print(\"slope\", (d2-d1)/h)\n"
   ]
  },
  {
   "cell_type": "markdown",
   "metadata": {},
   "source": [
    "# MicroGrad"
   ]
  },
  {
   "cell_type": "code",
   "execution_count": 29,
   "metadata": {},
   "outputs": [],
   "source": [
    "class Value:\n",
    "    def __init__(self, data, _children=(), _op=(), label=''):\n",
    "        self.data = data\n",
    "        self._prev = set(_children)\n",
    "        self._op = _op\n",
    "        self.label=label\n",
    "        self.grad = 0.0\n",
    "\n",
    "    def __add__(self, other):\n",
    "        out = Value(self.data + other.data, _children=(self, other), _op=\"+\")\n",
    "        return out\n",
    "\n",
    "    def __mul__(self, other):\n",
    "        out = Value(self.data * other.data, _children=(self, other), _op=\"*\")\n",
    "        return out\n",
    "\n",
    "    def tanh(self):\n",
    "        x = self.data\n",
    "        t = (math.exp(2*x) - 1) / (math.exp(2*x) + 1)\n",
    "        out = Value(t, _children=(self,), _op=\"tanh\")\n",
    "        return out    \n",
    "\n",
    "    def __repr__(self):\n",
    "        return f\"Value(data={self.data})\"  "
   ]
  },
  {
   "cell_type": "code",
   "execution_count": 30,
   "metadata": {},
   "outputs": [],
   "source": [
    "a = Value(2., label='a')\n",
    "b = Value(-3., label='b')\n",
    "c = Value(10., label='c')\n",
    "e = a*b; e.label='e'\n",
    "d = e + c; d.label='d'\n",
    "g = Value(-2.0, label='g')\n",
    "L = g * d\n",
    "L.label = 'L'"
   ]
  },
  {
   "cell_type": "code",
   "execution_count": 31,
   "metadata": {},
   "outputs": [
    {
     "data": {
      "text/plain": [
       "Value(data=4.0)"
      ]
     },
     "execution_count": 31,
     "metadata": {},
     "output_type": "execute_result"
    }
   ],
   "source": [
    "d = a*b + c\n",
    "d"
   ]
  },
  {
   "cell_type": "code",
   "execution_count": 32,
   "metadata": {},
   "outputs": [],
   "source": [
    "def trace(root):\n",
    "    nodes, edges = set(), set()\n",
    "\n",
    "    def build(v):\n",
    "        if v not in nodes:\n",
    "            nodes.add(v)\n",
    "            for child in v._prev:\n",
    "                edges.add((child, v))\n",
    "                build(child)\n",
    "    build(root)        \n",
    "    return nodes, edges    "
   ]
  },
  {
   "cell_type": "code",
   "execution_count": 33,
   "metadata": {},
   "outputs": [],
   "source": [
    "def draw_dot(root):\n",
    "    dot = Digraph(format='svg', graph_attr={\"rankdir\":\"LR\"})\n",
    "\n",
    "    nodes, edges = trace(root)\n",
    "    for n in nodes:\n",
    "        uid = str(id(n))\n",
    "\n",
    "        dot.node(name=uid, label=\"%s | data %.4f | grad %.4f\" % (n.label, n.data, n.grad), shape=\"record\")\n",
    "\n",
    "        if n._op:\n",
    "            dot.node(name=uid+n._op, label=n._op)\n",
    "            dot.edge(uid+n._op, uid)\n",
    "\n",
    "\n",
    "    for n1, n2 in edges:\n",
    "        dot.edge(str(id(n1)), str(id(n2)) + n2._op)\n",
    "\n",
    "    return dot            "
   ]
  },
  {
   "cell_type": "code",
   "execution_count": 34,
   "metadata": {},
   "outputs": [
    {
     "name": "stdout",
     "output_type": "stream",
     "text": [
      "-3.9999999999995595\n"
     ]
    }
   ],
   "source": [
    "def lol():\n",
    "    h = 0.001\n",
    "\n",
    "    a = Value(2., label='a')\n",
    "    b = Value(-3., label='b')\n",
    "    c = Value(10., label='c')\n",
    "    e = a*b; e.label='e'\n",
    "    d = e + c; d.label='d'\n",
    "    g = Value(-2.0, label='g')\n",
    "    L = g * d; L.label=\"L\"\n",
    "    L1 = L.data\n",
    "\n",
    "    a = Value(2., label='a')\n",
    "    b = Value(-3., label='b')\n",
    "    b.data += h\n",
    "    c = Value(10., label='c')\n",
    "    e = a*b; e.label='e'\n",
    "    d = e + c; d.label='d'\n",
    "    g = Value(-2.0, label='g')\n",
    "    L = g * d; L.label=\"L\"\n",
    "    L2 = L.data\n",
    "\n",
    "\n",
    "    print((L2 - L1)/h)\n",
    "\n",
    "\n",
    "lol()        "
   ]
  },
  {
   "cell_type": "code",
   "execution_count": 35,
   "metadata": {},
   "outputs": [],
   "source": [
    "L.grad = 1\n",
    "d.grad = -2\n",
    "g.grad = 4\n",
    "e.grad = -2\n",
    "c.grad = -2\n",
    "a.grad = 6\n",
    "b.grad = -4\n"
   ]
  },
  {
   "cell_type": "code",
   "execution_count": 36,
   "metadata": {},
   "outputs": [
    {
     "data": {
      "image/svg+xml": "<?xml version=\"1.0\" encoding=\"UTF-8\" standalone=\"no\"?>\n<!DOCTYPE svg PUBLIC \"-//W3C//DTD SVG 1.1//EN\"\n \"http://www.w3.org/Graphics/SVG/1.1/DTD/svg11.dtd\">\n<!-- Generated by graphviz version 2.43.0 (0)\n -->\n<!-- Title: %3 Pages: 1 -->\n<svg width=\"819pt\" height=\"254pt\"\n viewBox=\"0.00 0.00 819.00 254.00\" xmlns=\"http://www.w3.org/2000/svg\" xmlns:xlink=\"http://www.w3.org/1999/xlink\">\n<g id=\"graph0\" class=\"graph\" transform=\"scale(1 1) rotate(0) translate(4 250)\">\n<title>%3</title>\n<polygon fill=\"white\" stroke=\"transparent\" points=\"-4,4 -4,-250 815,-250 815,4 -4,4\"/>\n<!-- 140134549793808 -->\n<g id=\"node1\" class=\"node\">\n<title>140134549793808</title>\n<polygon fill=\"none\" stroke=\"black\" points=\"235.5,-44.5 235.5,-113.5 343.5,-113.5 343.5,-44.5 235.5,-44.5\"/>\n<text text-anchor=\"middle\" x=\"289.5\" y=\"-98.3\" font-family=\"Times,serif\" font-size=\"14.00\">e</text>\n<polyline fill=\"none\" stroke=\"black\" points=\"235.5,-90.5 343.5,-90.5 \"/>\n<text text-anchor=\"middle\" x=\"289.5\" y=\"-75.3\" font-family=\"Times,serif\" font-size=\"14.00\">data &#45;6.0000</text>\n<polyline fill=\"none\" stroke=\"black\" points=\"235.5,-67.5 343.5,-67.5 \"/>\n<text text-anchor=\"middle\" x=\"289.5\" y=\"-52.3\" font-family=\"Times,serif\" font-size=\"14.00\">grad &#45;2.0000</text>\n</g>\n<!-- 140134549793856+ -->\n<g id=\"node4\" class=\"node\">\n<title>140134549793856+</title>\n<ellipse fill=\"none\" stroke=\"black\" cx=\"408\" cy=\"-123\" rx=\"27\" ry=\"18\"/>\n<text text-anchor=\"middle\" x=\"408\" y=\"-119.3\" font-family=\"Times,serif\" font-size=\"14.00\">+</text>\n</g>\n<!-- 140134549793808&#45;&gt;140134549793856+ -->\n<g id=\"edge7\" class=\"edge\">\n<title>140134549793808&#45;&gt;140134549793856+</title>\n<path fill=\"none\" stroke=\"black\" d=\"M343.64,-99.07C354.24,-103.07 365.06,-107.16 374.7,-110.8\"/>\n<polygon fill=\"black\" stroke=\"black\" points=\"373.66,-114.15 384.25,-114.41 376.14,-107.6 373.66,-114.15\"/>\n</g>\n<!-- 140134549793808* -->\n<g id=\"node2\" class=\"node\">\n<title>140134549793808*</title>\n<ellipse fill=\"none\" stroke=\"black\" cx=\"171\" cy=\"-79\" rx=\"27\" ry=\"18\"/>\n<text text-anchor=\"middle\" x=\"171\" y=\"-75.3\" font-family=\"Times,serif\" font-size=\"14.00\">*</text>\n</g>\n<!-- 140134549793808*&#45;&gt;140134549793808 -->\n<g id=\"edge1\" class=\"edge\">\n<title>140134549793808*&#45;&gt;140134549793808</title>\n<path fill=\"none\" stroke=\"black\" d=\"M198.14,-79C206.22,-79 215.5,-79 224.97,-79\"/>\n<polygon fill=\"black\" stroke=\"black\" points=\"225.27,-82.5 235.27,-79 225.27,-75.5 225.27,-82.5\"/>\n</g>\n<!-- 140134549793856 -->\n<g id=\"node3\" class=\"node\">\n<title>140134549793856</title>\n<polygon fill=\"none\" stroke=\"black\" points=\"472.5,-88.5 472.5,-157.5 576.5,-157.5 576.5,-88.5 472.5,-88.5\"/>\n<text text-anchor=\"middle\" x=\"524.5\" y=\"-142.3\" font-family=\"Times,serif\" font-size=\"14.00\">d</text>\n<polyline fill=\"none\" stroke=\"black\" points=\"472.5,-134.5 576.5,-134.5 \"/>\n<text text-anchor=\"middle\" x=\"524.5\" y=\"-119.3\" font-family=\"Times,serif\" font-size=\"14.00\">data 4.0000</text>\n<polyline fill=\"none\" stroke=\"black\" points=\"472.5,-111.5 576.5,-111.5 \"/>\n<text text-anchor=\"middle\" x=\"524.5\" y=\"-96.3\" font-family=\"Times,serif\" font-size=\"14.00\">grad 0.0000</text>\n</g>\n<!-- 140134549793904* -->\n<g id=\"node6\" class=\"node\">\n<title>140134549793904*</title>\n<ellipse fill=\"none\" stroke=\"black\" cx=\"641\" cy=\"-167\" rx=\"27\" ry=\"18\"/>\n<text text-anchor=\"middle\" x=\"641\" y=\"-163.3\" font-family=\"Times,serif\" font-size=\"14.00\">*</text>\n</g>\n<!-- 140134549793856&#45;&gt;140134549793904* -->\n<g id=\"edge5\" class=\"edge\">\n<title>140134549793856&#45;&gt;140134549793904*</title>\n<path fill=\"none\" stroke=\"black\" d=\"M576.72,-142.68C587.24,-146.73 598.03,-150.87 607.66,-154.57\"/>\n<polygon fill=\"black\" stroke=\"black\" points=\"606.62,-157.92 617.21,-158.24 609.13,-151.39 606.62,-157.92\"/>\n</g>\n<!-- 140134549793856+&#45;&gt;140134549793856 -->\n<g id=\"edge2\" class=\"edge\">\n<title>140134549793856+&#45;&gt;140134549793856</title>\n<path fill=\"none\" stroke=\"black\" d=\"M435.27,-123C443.32,-123 452.54,-123 461.91,-123\"/>\n<polygon fill=\"black\" stroke=\"black\" points=\"462.09,-126.5 472.09,-123 462.09,-119.5 462.09,-126.5\"/>\n</g>\n<!-- 140134549793904 -->\n<g id=\"node5\" class=\"node\">\n<title>140134549793904</title>\n<polygon fill=\"none\" stroke=\"black\" points=\"704,-132.5 704,-201.5 811,-201.5 811,-132.5 704,-132.5\"/>\n<text text-anchor=\"middle\" x=\"757.5\" y=\"-186.3\" font-family=\"Times,serif\" font-size=\"14.00\">L</text>\n<polyline fill=\"none\" stroke=\"black\" points=\"704,-178.5 811,-178.5 \"/>\n<text text-anchor=\"middle\" x=\"757.5\" y=\"-163.3\" font-family=\"Times,serif\" font-size=\"14.00\">data &#45;8.0000</text>\n<polyline fill=\"none\" stroke=\"black\" points=\"704,-155.5 811,-155.5 \"/>\n<text text-anchor=\"middle\" x=\"757.5\" y=\"-140.3\" font-family=\"Times,serif\" font-size=\"14.00\">grad 1.0000</text>\n</g>\n<!-- 140134549793904*&#45;&gt;140134549793904 -->\n<g id=\"edge3\" class=\"edge\">\n<title>140134549793904*&#45;&gt;140134549793904</title>\n<path fill=\"none\" stroke=\"black\" d=\"M668.27,-167C675.94,-167 684.68,-167 693.61,-167\"/>\n<polygon fill=\"black\" stroke=\"black\" points=\"693.71,-170.5 703.71,-167 693.71,-163.5 693.71,-170.5\"/>\n</g>\n<!-- 140134549794432 -->\n<g id=\"node7\" class=\"node\">\n<title>140134549794432</title>\n<polygon fill=\"none\" stroke=\"black\" points=\"2,-88.5 2,-157.5 106,-157.5 106,-88.5 2,-88.5\"/>\n<text text-anchor=\"middle\" x=\"54\" y=\"-142.3\" font-family=\"Times,serif\" font-size=\"14.00\">a</text>\n<polyline fill=\"none\" stroke=\"black\" points=\"2,-134.5 106,-134.5 \"/>\n<text text-anchor=\"middle\" x=\"54\" y=\"-119.3\" font-family=\"Times,serif\" font-size=\"14.00\">data 2.0000</text>\n<polyline fill=\"none\" stroke=\"black\" points=\"2,-111.5 106,-111.5 \"/>\n<text text-anchor=\"middle\" x=\"54\" y=\"-96.3\" font-family=\"Times,serif\" font-size=\"14.00\">grad 6.0000</text>\n</g>\n<!-- 140134549794432&#45;&gt;140134549793808* -->\n<g id=\"edge6\" class=\"edge\">\n<title>140134549794432&#45;&gt;140134549793808*</title>\n<path fill=\"none\" stroke=\"black\" d=\"M106.11,-103.44C116.91,-99.31 128.01,-95.07 137.87,-91.29\"/>\n<polygon fill=\"black\" stroke=\"black\" points=\"139.16,-94.55 147.25,-87.7 136.66,-88.01 139.16,-94.55\"/>\n</g>\n<!-- 140134549794480 -->\n<g id=\"node8\" class=\"node\">\n<title>140134549794480</title>\n<polygon fill=\"none\" stroke=\"black\" points=\"234,-132.5 234,-201.5 345,-201.5 345,-132.5 234,-132.5\"/>\n<text text-anchor=\"middle\" x=\"289.5\" y=\"-186.3\" font-family=\"Times,serif\" font-size=\"14.00\">c</text>\n<polyline fill=\"none\" stroke=\"black\" points=\"234,-178.5 345,-178.5 \"/>\n<text text-anchor=\"middle\" x=\"289.5\" y=\"-163.3\" font-family=\"Times,serif\" font-size=\"14.00\">data 10.0000</text>\n<polyline fill=\"none\" stroke=\"black\" points=\"234,-155.5 345,-155.5 \"/>\n<text text-anchor=\"middle\" x=\"289.5\" y=\"-140.3\" font-family=\"Times,serif\" font-size=\"14.00\">grad &#45;2.0000</text>\n</g>\n<!-- 140134549794480&#45;&gt;140134549793856+ -->\n<g id=\"edge9\" class=\"edge\">\n<title>140134549794480&#45;&gt;140134549793856+</title>\n<path fill=\"none\" stroke=\"black\" d=\"M345.34,-146.29C355.39,-142.49 365.58,-138.64 374.71,-135.2\"/>\n<polygon fill=\"black\" stroke=\"black\" points=\"376.01,-138.44 384.13,-131.64 373.54,-131.9 376.01,-138.44\"/>\n</g>\n<!-- 140134551190784 -->\n<g id=\"node9\" class=\"node\">\n<title>140134551190784</title>\n<polygon fill=\"none\" stroke=\"black\" points=\"471,-176.5 471,-245.5 578,-245.5 578,-176.5 471,-176.5\"/>\n<text text-anchor=\"middle\" x=\"524.5\" y=\"-230.3\" font-family=\"Times,serif\" font-size=\"14.00\">g</text>\n<polyline fill=\"none\" stroke=\"black\" points=\"471,-222.5 578,-222.5 \"/>\n<text text-anchor=\"middle\" x=\"524.5\" y=\"-207.3\" font-family=\"Times,serif\" font-size=\"14.00\">data &#45;2.0000</text>\n<polyline fill=\"none\" stroke=\"black\" points=\"471,-199.5 578,-199.5 \"/>\n<text text-anchor=\"middle\" x=\"524.5\" y=\"-184.3\" font-family=\"Times,serif\" font-size=\"14.00\">grad 4.0000</text>\n</g>\n<!-- 140134551190784&#45;&gt;140134549793904* -->\n<g id=\"edge4\" class=\"edge\">\n<title>140134551190784&#45;&gt;140134549793904*</title>\n<path fill=\"none\" stroke=\"black\" d=\"M578.06,-190.8C588.16,-186.92 598.46,-182.96 607.68,-179.42\"/>\n<polygon fill=\"black\" stroke=\"black\" points=\"609.13,-182.61 617.21,-175.76 606.62,-176.08 609.13,-182.61\"/>\n</g>\n<!-- 140134549792608 -->\n<g id=\"node10\" class=\"node\">\n<title>140134549792608</title>\n<polygon fill=\"none\" stroke=\"black\" points=\"0,-0.5 0,-69.5 108,-69.5 108,-0.5 0,-0.5\"/>\n<text text-anchor=\"middle\" x=\"54\" y=\"-54.3\" font-family=\"Times,serif\" font-size=\"14.00\">b</text>\n<polyline fill=\"none\" stroke=\"black\" points=\"0,-46.5 108,-46.5 \"/>\n<text text-anchor=\"middle\" x=\"54\" y=\"-31.3\" font-family=\"Times,serif\" font-size=\"14.00\">data &#45;3.0000</text>\n<polyline fill=\"none\" stroke=\"black\" points=\"0,-23.5 108,-23.5 \"/>\n<text text-anchor=\"middle\" x=\"54\" y=\"-8.3\" font-family=\"Times,serif\" font-size=\"14.00\">grad &#45;4.0000</text>\n</g>\n<!-- 140134549792608&#45;&gt;140134549793808* -->\n<g id=\"edge8\" class=\"edge\">\n<title>140134549792608&#45;&gt;140134549793808*</title>\n<path fill=\"none\" stroke=\"black\" d=\"M108.12,-55.33C118.24,-59.2 128.53,-63.13 137.75,-66.66\"/>\n<polygon fill=\"black\" stroke=\"black\" points=\"136.67,-70 147.26,-70.3 139.17,-63.46 136.67,-70\"/>\n</g>\n</g>\n</svg>\n",
      "text/plain": [
       "<graphviz.graphs.Digraph at 0x7f739e16d370>"
      ]
     },
     "execution_count": 36,
     "metadata": {},
     "output_type": "execute_result"
    }
   ],
   "source": [
    "draw_dot(L)"
   ]
  },
  {
   "cell_type": "code",
   "execution_count": 37,
   "metadata": {},
   "outputs": [
    {
     "data": {
      "text/plain": [
       "-8.0"
      ]
     },
     "execution_count": 37,
     "metadata": {},
     "output_type": "execute_result"
    }
   ],
   "source": [
    "L.data"
   ]
  },
  {
   "cell_type": "code",
   "execution_count": 38,
   "metadata": {},
   "outputs": [],
   "source": [
    "a.data = a.data + 0.01*a.grad\n",
    "b.data = b.data + 0.01*b.grad\n",
    "c.data = c.data + 0.01*c.grad\n",
    "g.data = g.data + 0.01*g.grad"
   ]
  },
  {
   "cell_type": "code",
   "execution_count": 39,
   "metadata": {},
   "outputs": [],
   "source": [
    "e = a * b\n",
    "d = e + c\n",
    "L = g * d"
   ]
  },
  {
   "cell_type": "code",
   "execution_count": 40,
   "metadata": {},
   "outputs": [
    {
     "data": {
      "text/plain": [
       "-7.286496"
      ]
     },
     "execution_count": 40,
     "metadata": {},
     "output_type": "execute_result"
    }
   ],
   "source": [
    "L.data"
   ]
  },
  {
   "cell_type": "markdown",
   "metadata": {},
   "source": [
    "# Backprop through a neuron"
   ]
  },
  {
   "cell_type": "code",
   "execution_count": 41,
   "metadata": {},
   "outputs": [],
   "source": [
    "class Value:\n",
    "    def __init__(self, data, _children=(), _op=(), label=''):\n",
    "        self.data = data\n",
    "        self._backward = lambda: None\n",
    "        self._prev = set(_children)\n",
    "        self._op = _op\n",
    "        self.label=label\n",
    "        self.grad = 0.0\n",
    "\n",
    "    def __add__(self, other):\n",
    "        out = Value(self.data + other.data, _children=(self, other), _op=\"+\")\n",
    "\n",
    "        def _backward():\n",
    "            self.grad = 1 * out.grad \n",
    "            other.grad = 1 * out.grad \n",
    "\n",
    "        out._backward = _backward\n",
    "        return out\n",
    "\n",
    "    def __mul__(self, other):\n",
    "        out = Value(self.data * other.data, _children=(self, other), _op=\"*\")\n",
    "\n",
    "        def _backward():\n",
    "            self.grad = other.data * out.grad\n",
    "            other.grad = self.data * out.grad\n",
    "\n",
    "        out._backward = _backward\n",
    "        return out\n",
    "\n",
    "    def tanh(self):\n",
    "        x = self.data\n",
    "        t = (math.exp(2*x) - 1) / (math.exp(2*x) + 1)\n",
    "        out = Value(t, _children=(self,), _op=\"tanh\")\n",
    "\n",
    "        def _backward():\n",
    "            self.grad = (1 - t**2) * out.grad\n",
    "\n",
    "        out._backward = _backward\n",
    "        return out    \n",
    "\n",
    "\n",
    "    def backward(self):\n",
    "        # topological sort\n",
    "        topo = []\n",
    "        visited = set()\n",
    "\n",
    "        def build_topo(v):\n",
    "            if v not in visited:\n",
    "                visited.add(v)\n",
    "                for child in v._prev:\n",
    "                    build_topo(child)\n",
    "                topo.append(v)  \n",
    "\n",
    "        build_topo(self)\n",
    "        self.grad = 1.\n",
    "\n",
    "        for node in reversed(topo):\n",
    "            node._backward()\n",
    "\n",
    "\n",
    "    def __repr__(self):\n",
    "        return f\"Value(data={self.data})\"  "
   ]
  },
  {
   "cell_type": "code",
   "execution_count": 42,
   "metadata": {},
   "outputs": [],
   "source": [
    "x1 = Value(2.0, label='x1')\n",
    "x2 = Value(0.0, label='x2')\n",
    "\n",
    "w1 = Value(-3.0, label='w1')\n",
    "w2 = Value(1.0, label='w2')\n",
    "\n",
    "b = Value(6.88, label='b')\n",
    "\n",
    "x1w1 = x1 * w1; x1w1.label = \"x1w1\"\n",
    "x2w2 = x2 * w2; x2w2.label = \"x2w2\"\n",
    "x1w1x2w2 = x1w1 + x2w2; x1w1x2w2.label = \"x1w1x2w2\"\n",
    "n = x1w1x2w2 + b; n.label = \"n\"\n",
    "o = n.tanh(); o.label=\"o\""
   ]
  },
  {
   "cell_type": "code",
   "execution_count": 43,
   "metadata": {},
   "outputs": [
    {
     "data": {
      "image/svg+xml": "<?xml version=\"1.0\" encoding=\"UTF-8\" standalone=\"no\"?>\n<!DOCTYPE svg PUBLIC \"-//W3C//DTD SVG 1.1//EN\"\n \"http://www.w3.org/Graphics/SVG/1.1/DTD/svg11.dtd\">\n<!-- Generated by graphviz version 2.43.0 (0)\n -->\n<!-- Title: %3 Pages: 1 -->\n<svg width=\"1051pt\" height=\"342pt\"\n viewBox=\"0.00 0.00 1050.69 342.00\" xmlns=\"http://www.w3.org/2000/svg\" xmlns:xlink=\"http://www.w3.org/1999/xlink\">\n<g id=\"graph0\" class=\"graph\" transform=\"scale(1 1) rotate(0) translate(4 338)\">\n<title>%3</title>\n<polygon fill=\"white\" stroke=\"transparent\" points=\"-4,4 -4,-338 1046.69,-338 1046.69,4 -4,4\"/>\n<!-- 140134549792800 -->\n<g id=\"node1\" class=\"node\">\n<title>140134549792800</title>\n<polygon fill=\"none\" stroke=\"black\" points=\"233,-88.5 233,-157.5 340,-157.5 340,-88.5 233,-88.5\"/>\n<text text-anchor=\"middle\" x=\"286.5\" y=\"-142.3\" font-family=\"Times,serif\" font-size=\"14.00\">x1w1</text>\n<polyline fill=\"none\" stroke=\"black\" points=\"233,-134.5 340,-134.5 \"/>\n<text text-anchor=\"middle\" x=\"286.5\" y=\"-119.3\" font-family=\"Times,serif\" font-size=\"14.00\">data &#45;6.0000</text>\n<polyline fill=\"none\" stroke=\"black\" points=\"233,-111.5 340,-111.5 \"/>\n<text text-anchor=\"middle\" x=\"286.5\" y=\"-96.3\" font-family=\"Times,serif\" font-size=\"14.00\">grad 0.0000</text>\n</g>\n<!-- 140134549932304+ -->\n<g id=\"node9\" class=\"node\">\n<title>140134549932304+</title>\n<ellipse fill=\"none\" stroke=\"black\" cx=\"403\" cy=\"-167\" rx=\"27\" ry=\"18\"/>\n<text text-anchor=\"middle\" x=\"403\" y=\"-163.3\" font-family=\"Times,serif\" font-size=\"14.00\">+</text>\n</g>\n<!-- 140134549792800&#45;&gt;140134549932304+ -->\n<g id=\"edge9\" class=\"edge\">\n<title>140134549792800&#45;&gt;140134549932304+</title>\n<path fill=\"none\" stroke=\"black\" d=\"M340.06,-143.2C350.16,-147.08 360.46,-151.04 369.68,-154.58\"/>\n<polygon fill=\"black\" stroke=\"black\" points=\"368.62,-157.92 379.21,-158.24 371.13,-151.39 368.62,-157.92\"/>\n</g>\n<!-- 140134549792800* -->\n<g id=\"node2\" class=\"node\">\n<title>140134549792800*</title>\n<ellipse fill=\"none\" stroke=\"black\" cx=\"170\" cy=\"-123\" rx=\"27\" ry=\"18\"/>\n<text text-anchor=\"middle\" x=\"170\" y=\"-119.3\" font-family=\"Times,serif\" font-size=\"14.00\">*</text>\n</g>\n<!-- 140134549792800*&#45;&gt;140134549792800 -->\n<g id=\"edge1\" class=\"edge\">\n<title>140134549792800*&#45;&gt;140134549792800</title>\n<path fill=\"none\" stroke=\"black\" d=\"M197.27,-123C204.94,-123 213.68,-123 222.61,-123\"/>\n<polygon fill=\"black\" stroke=\"black\" points=\"222.71,-126.5 232.71,-123 222.71,-119.5 222.71,-126.5\"/>\n</g>\n<!-- 140134549794000 -->\n<g id=\"node3\" class=\"node\">\n<title>140134549794000</title>\n<polygon fill=\"none\" stroke=\"black\" points=\"1.5,-264.5 1.5,-333.5 105.5,-333.5 105.5,-264.5 1.5,-264.5\"/>\n<text text-anchor=\"middle\" x=\"53.5\" y=\"-318.3\" font-family=\"Times,serif\" font-size=\"14.00\">x2</text>\n<polyline fill=\"none\" stroke=\"black\" points=\"1.5,-310.5 105.5,-310.5 \"/>\n<text text-anchor=\"middle\" x=\"53.5\" y=\"-295.3\" font-family=\"Times,serif\" font-size=\"14.00\">data 0.0000</text>\n<polyline fill=\"none\" stroke=\"black\" points=\"1.5,-287.5 105.5,-287.5 \"/>\n<text text-anchor=\"middle\" x=\"53.5\" y=\"-272.3\" font-family=\"Times,serif\" font-size=\"14.00\">grad 0.0000</text>\n</g>\n<!-- 140134549931776* -->\n<g id=\"node7\" class=\"node\">\n<title>140134549931776*</title>\n<ellipse fill=\"none\" stroke=\"black\" cx=\"170\" cy=\"-211\" rx=\"27\" ry=\"18\"/>\n<text text-anchor=\"middle\" x=\"170\" y=\"-207.3\" font-family=\"Times,serif\" font-size=\"14.00\">*</text>\n</g>\n<!-- 140134549794000&#45;&gt;140134549931776* -->\n<g id=\"edge11\" class=\"edge\">\n<title>140134549794000&#45;&gt;140134549931776*</title>\n<path fill=\"none\" stroke=\"black\" d=\"M99.42,-264.47C114.43,-252.94 130.63,-240.49 143.61,-230.51\"/>\n<polygon fill=\"black\" stroke=\"black\" points=\"145.84,-233.21 151.64,-224.35 141.57,-227.66 145.84,-233.21\"/>\n</g>\n<!-- 140134549930720 -->\n<g id=\"node4\" class=\"node\">\n<title>140134549930720</title>\n<polygon fill=\"none\" stroke=\"black\" points=\"699,-176.5 699,-245.5 803,-245.5 803,-176.5 699,-176.5\"/>\n<text text-anchor=\"middle\" x=\"751\" y=\"-230.3\" font-family=\"Times,serif\" font-size=\"14.00\">n</text>\n<polyline fill=\"none\" stroke=\"black\" points=\"699,-222.5 803,-222.5 \"/>\n<text text-anchor=\"middle\" x=\"751\" y=\"-207.3\" font-family=\"Times,serif\" font-size=\"14.00\">data 0.8800</text>\n<polyline fill=\"none\" stroke=\"black\" points=\"699,-199.5 803,-199.5 \"/>\n<text text-anchor=\"middle\" x=\"751\" y=\"-184.3\" font-family=\"Times,serif\" font-size=\"14.00\">grad 0.0000</text>\n</g>\n<!-- 140134549933456tanh -->\n<g id=\"node13\" class=\"node\">\n<title>140134549933456tanh</title>\n<ellipse fill=\"none\" stroke=\"black\" cx=\"870.85\" cy=\"-211\" rx=\"31.7\" ry=\"18\"/>\n<text text-anchor=\"middle\" x=\"870.85\" y=\"-207.3\" font-family=\"Times,serif\" font-size=\"14.00\">tanh</text>\n</g>\n<!-- 140134549930720&#45;&gt;140134549933456tanh -->\n<g id=\"edge8\" class=\"edge\">\n<title>140134549930720&#45;&gt;140134549933456tanh</title>\n<path fill=\"none\" stroke=\"black\" d=\"M803,-211C811.58,-211 820.38,-211 828.66,-211\"/>\n<polygon fill=\"black\" stroke=\"black\" points=\"828.82,-214.5 838.82,-211 828.82,-207.5 828.82,-214.5\"/>\n</g>\n<!-- 140134549930720+ -->\n<g id=\"node5\" class=\"node\">\n<title>140134549930720+</title>\n<ellipse fill=\"none\" stroke=\"black\" cx=\"636\" cy=\"-211\" rx=\"27\" ry=\"18\"/>\n<text text-anchor=\"middle\" x=\"636\" y=\"-207.3\" font-family=\"Times,serif\" font-size=\"14.00\">+</text>\n</g>\n<!-- 140134549930720+&#45;&gt;140134549930720 -->\n<g id=\"edge2\" class=\"edge\">\n<title>140134549930720+&#45;&gt;140134549930720</title>\n<path fill=\"none\" stroke=\"black\" d=\"M663.21,-211C670.88,-211 679.62,-211 688.51,-211\"/>\n<polygon fill=\"black\" stroke=\"black\" points=\"688.58,-214.5 698.58,-211 688.58,-207.5 688.58,-214.5\"/>\n</g>\n<!-- 140134549931776 -->\n<g id=\"node6\" class=\"node\">\n<title>140134549931776</title>\n<polygon fill=\"none\" stroke=\"black\" points=\"234.5,-176.5 234.5,-245.5 338.5,-245.5 338.5,-176.5 234.5,-176.5\"/>\n<text text-anchor=\"middle\" x=\"286.5\" y=\"-230.3\" font-family=\"Times,serif\" font-size=\"14.00\">x2w2</text>\n<polyline fill=\"none\" stroke=\"black\" points=\"234.5,-222.5 338.5,-222.5 \"/>\n<text text-anchor=\"middle\" x=\"286.5\" y=\"-207.3\" font-family=\"Times,serif\" font-size=\"14.00\">data 0.0000</text>\n<polyline fill=\"none\" stroke=\"black\" points=\"234.5,-199.5 338.5,-199.5 \"/>\n<text text-anchor=\"middle\" x=\"286.5\" y=\"-184.3\" font-family=\"Times,serif\" font-size=\"14.00\">grad 0.0000</text>\n</g>\n<!-- 140134549931776&#45;&gt;140134549932304+ -->\n<g id=\"edge6\" class=\"edge\">\n<title>140134549931776&#45;&gt;140134549932304+</title>\n<path fill=\"none\" stroke=\"black\" d=\"M338.72,-191.32C349.24,-187.27 360.03,-183.13 369.66,-179.43\"/>\n<polygon fill=\"black\" stroke=\"black\" points=\"371.13,-182.61 379.21,-175.76 368.62,-176.08 371.13,-182.61\"/>\n</g>\n<!-- 140134549931776*&#45;&gt;140134549931776 -->\n<g id=\"edge3\" class=\"edge\">\n<title>140134549931776*&#45;&gt;140134549931776</title>\n<path fill=\"none\" stroke=\"black\" d=\"M197.27,-211C205.32,-211 214.54,-211 223.91,-211\"/>\n<polygon fill=\"black\" stroke=\"black\" points=\"224.09,-214.5 234.09,-211 224.09,-207.5 224.09,-214.5\"/>\n</g>\n<!-- 140134549932304 -->\n<g id=\"node8\" class=\"node\">\n<title>140134549932304</title>\n<polygon fill=\"none\" stroke=\"black\" points=\"466,-132.5 466,-201.5 573,-201.5 573,-132.5 466,-132.5\"/>\n<text text-anchor=\"middle\" x=\"519.5\" y=\"-186.3\" font-family=\"Times,serif\" font-size=\"14.00\">x1w1x2w2</text>\n<polyline fill=\"none\" stroke=\"black\" points=\"466,-178.5 573,-178.5 \"/>\n<text text-anchor=\"middle\" x=\"519.5\" y=\"-163.3\" font-family=\"Times,serif\" font-size=\"14.00\">data &#45;6.0000</text>\n<polyline fill=\"none\" stroke=\"black\" points=\"466,-155.5 573,-155.5 \"/>\n<text text-anchor=\"middle\" x=\"519.5\" y=\"-140.3\" font-family=\"Times,serif\" font-size=\"14.00\">grad 0.0000</text>\n</g>\n<!-- 140134549932304&#45;&gt;140134549930720+ -->\n<g id=\"edge14\" class=\"edge\">\n<title>140134549932304&#45;&gt;140134549930720+</title>\n<path fill=\"none\" stroke=\"black\" d=\"M573.06,-187.2C583.16,-191.08 593.46,-195.04 602.68,-198.58\"/>\n<polygon fill=\"black\" stroke=\"black\" points=\"601.62,-201.92 612.21,-202.24 604.13,-195.39 601.62,-201.92\"/>\n</g>\n<!-- 140134549932304+&#45;&gt;140134549932304 -->\n<g id=\"edge4\" class=\"edge\">\n<title>140134549932304+&#45;&gt;140134549932304</title>\n<path fill=\"none\" stroke=\"black\" d=\"M430.27,-167C437.94,-167 446.68,-167 455.61,-167\"/>\n<polygon fill=\"black\" stroke=\"black\" points=\"455.71,-170.5 465.71,-167 455.71,-163.5 455.71,-170.5\"/>\n</g>\n<!-- 140134549794144 -->\n<g id=\"node10\" class=\"node\">\n<title>140134549794144</title>\n<polygon fill=\"none\" stroke=\"black\" points=\"0,-88.5 0,-157.5 107,-157.5 107,-88.5 0,-88.5\"/>\n<text text-anchor=\"middle\" x=\"53.5\" y=\"-142.3\" font-family=\"Times,serif\" font-size=\"14.00\">w1</text>\n<polyline fill=\"none\" stroke=\"black\" points=\"0,-134.5 107,-134.5 \"/>\n<text text-anchor=\"middle\" x=\"53.5\" y=\"-119.3\" font-family=\"Times,serif\" font-size=\"14.00\">data &#45;3.0000</text>\n<polyline fill=\"none\" stroke=\"black\" points=\"0,-111.5 107,-111.5 \"/>\n<text text-anchor=\"middle\" x=\"53.5\" y=\"-96.3\" font-family=\"Times,serif\" font-size=\"14.00\">grad 0.0000</text>\n</g>\n<!-- 140134549794144&#45;&gt;140134549792800* -->\n<g id=\"edge13\" class=\"edge\">\n<title>140134549794144&#45;&gt;140134549792800*</title>\n<path fill=\"none\" stroke=\"black\" d=\"M107.06,-123C115.72,-123 124.53,-123 132.69,-123\"/>\n<polygon fill=\"black\" stroke=\"black\" points=\"132.96,-126.5 142.96,-123 132.96,-119.5 132.96,-126.5\"/>\n</g>\n<!-- 140134549792128 -->\n<g id=\"node11\" class=\"node\">\n<title>140134549792128</title>\n<polygon fill=\"none\" stroke=\"black\" points=\"467.5,-220.5 467.5,-289.5 571.5,-289.5 571.5,-220.5 467.5,-220.5\"/>\n<text text-anchor=\"middle\" x=\"519.5\" y=\"-274.3\" font-family=\"Times,serif\" font-size=\"14.00\">b</text>\n<polyline fill=\"none\" stroke=\"black\" points=\"467.5,-266.5 571.5,-266.5 \"/>\n<text text-anchor=\"middle\" x=\"519.5\" y=\"-251.3\" font-family=\"Times,serif\" font-size=\"14.00\">data 6.8800</text>\n<polyline fill=\"none\" stroke=\"black\" points=\"467.5,-243.5 571.5,-243.5 \"/>\n<text text-anchor=\"middle\" x=\"519.5\" y=\"-228.3\" font-family=\"Times,serif\" font-size=\"14.00\">grad 0.0000</text>\n</g>\n<!-- 140134549792128&#45;&gt;140134549930720+ -->\n<g id=\"edge7\" class=\"edge\">\n<title>140134549792128&#45;&gt;140134549930720+</title>\n<path fill=\"none\" stroke=\"black\" d=\"M571.72,-235.32C582.24,-231.27 593.03,-227.13 602.66,-223.43\"/>\n<polygon fill=\"black\" stroke=\"black\" points=\"604.13,-226.61 612.21,-219.76 601.62,-220.08 604.13,-226.61\"/>\n</g>\n<!-- 140134549933456 -->\n<g id=\"node12\" class=\"node\">\n<title>140134549933456</title>\n<polygon fill=\"none\" stroke=\"black\" points=\"938.69,-176.5 938.69,-245.5 1042.69,-245.5 1042.69,-176.5 938.69,-176.5\"/>\n<text text-anchor=\"middle\" x=\"990.69\" y=\"-230.3\" font-family=\"Times,serif\" font-size=\"14.00\">o</text>\n<polyline fill=\"none\" stroke=\"black\" points=\"938.69,-222.5 1042.69,-222.5 \"/>\n<text text-anchor=\"middle\" x=\"990.69\" y=\"-207.3\" font-family=\"Times,serif\" font-size=\"14.00\">data 0.7064</text>\n<polyline fill=\"none\" stroke=\"black\" points=\"938.69,-199.5 1042.69,-199.5 \"/>\n<text text-anchor=\"middle\" x=\"990.69\" y=\"-184.3\" font-family=\"Times,serif\" font-size=\"14.00\">grad 0.0000</text>\n</g>\n<!-- 140134549933456tanh&#45;&gt;140134549933456 -->\n<g id=\"edge5\" class=\"edge\">\n<title>140134549933456tanh&#45;&gt;140134549933456</title>\n<path fill=\"none\" stroke=\"black\" d=\"M902.81,-211C910.74,-211 919.54,-211 928.42,-211\"/>\n<polygon fill=\"black\" stroke=\"black\" points=\"928.43,-214.5 938.43,-211 928.43,-207.5 928.43,-214.5\"/>\n</g>\n<!-- 140134549792176 -->\n<g id=\"node14\" class=\"node\">\n<title>140134549792176</title>\n<polygon fill=\"none\" stroke=\"black\" points=\"1.5,-0.5 1.5,-69.5 105.5,-69.5 105.5,-0.5 1.5,-0.5\"/>\n<text text-anchor=\"middle\" x=\"53.5\" y=\"-54.3\" font-family=\"Times,serif\" font-size=\"14.00\">x1</text>\n<polyline fill=\"none\" stroke=\"black\" points=\"1.5,-46.5 105.5,-46.5 \"/>\n<text text-anchor=\"middle\" x=\"53.5\" y=\"-31.3\" font-family=\"Times,serif\" font-size=\"14.00\">data 2.0000</text>\n<polyline fill=\"none\" stroke=\"black\" points=\"1.5,-23.5 105.5,-23.5 \"/>\n<text text-anchor=\"middle\" x=\"53.5\" y=\"-8.3\" font-family=\"Times,serif\" font-size=\"14.00\">grad 0.0000</text>\n</g>\n<!-- 140134549792176&#45;&gt;140134549792800* -->\n<g id=\"edge12\" class=\"edge\">\n<title>140134549792176&#45;&gt;140134549792800*</title>\n<path fill=\"none\" stroke=\"black\" d=\"M99.42,-69.53C114.43,-81.06 130.63,-93.51 143.61,-103.49\"/>\n<polygon fill=\"black\" stroke=\"black\" points=\"141.57,-106.34 151.64,-109.65 145.84,-100.79 141.57,-106.34\"/>\n</g>\n<!-- 140134549791696 -->\n<g id=\"node15\" class=\"node\">\n<title>140134549791696</title>\n<polygon fill=\"none\" stroke=\"black\" points=\"1.5,-176.5 1.5,-245.5 105.5,-245.5 105.5,-176.5 1.5,-176.5\"/>\n<text text-anchor=\"middle\" x=\"53.5\" y=\"-230.3\" font-family=\"Times,serif\" font-size=\"14.00\">w2</text>\n<polyline fill=\"none\" stroke=\"black\" points=\"1.5,-222.5 105.5,-222.5 \"/>\n<text text-anchor=\"middle\" x=\"53.5\" y=\"-207.3\" font-family=\"Times,serif\" font-size=\"14.00\">data 1.0000</text>\n<polyline fill=\"none\" stroke=\"black\" points=\"1.5,-199.5 105.5,-199.5 \"/>\n<text text-anchor=\"middle\" x=\"53.5\" y=\"-184.3\" font-family=\"Times,serif\" font-size=\"14.00\">grad 0.0000</text>\n</g>\n<!-- 140134549791696&#45;&gt;140134549931776* -->\n<g id=\"edge10\" class=\"edge\">\n<title>140134549791696&#45;&gt;140134549931776*</title>\n<path fill=\"none\" stroke=\"black\" d=\"M105.72,-211C114.87,-211 124.22,-211 132.83,-211\"/>\n<polygon fill=\"black\" stroke=\"black\" points=\"132.9,-214.5 142.9,-211 132.9,-207.5 132.9,-214.5\"/>\n</g>\n</g>\n</svg>\n",
      "text/plain": [
       "<graphviz.graphs.Digraph at 0x7f739e0faca0>"
      ]
     },
     "execution_count": 43,
     "metadata": {},
     "output_type": "execute_result"
    }
   ],
   "source": [
    "draw_dot(o)"
   ]
  },
  {
   "cell_type": "code",
   "execution_count": 44,
   "metadata": {},
   "outputs": [],
   "source": [
    "o.grad = 1."
   ]
  },
  {
   "cell_type": "code",
   "execution_count": 45,
   "metadata": {},
   "outputs": [],
   "source": [
    "# automatic\n",
    "o.grad = 1.\n",
    "o._backward()\n",
    "n._backward()\n",
    "x1w1x2w2._backward()\n",
    "x2w2._backward()\n",
    "x1w1._backward()\n"
   ]
  },
  {
   "cell_type": "code",
   "execution_count": 46,
   "metadata": {},
   "outputs": [],
   "source": [
    "# manually\n",
    "o.grad = 1.\n",
    "\n",
    "# 1 - tanh**2 = 1-o**2\n",
    "n.grad = 1 - o.data**2\n",
    "b.grad = 0.5\n",
    "\n",
    "x1w1.grad = 0.5\n",
    "x2w2.grad = 0.5\n",
    "\n",
    "x1.grad = 0.5 * w1.data\n",
    "w1.grad = 0.5 * x1.data\n",
    "\n",
    "x2.grad = 0.5 * w2.data\n",
    "w2.grad = 0.5 * x2.data"
   ]
  },
  {
   "cell_type": "code",
   "execution_count": 47,
   "metadata": {},
   "outputs": [],
   "source": [
    "def numerical_check():\n",
    "    x1 = Value(2.0, label='x1')\n",
    "    x2 = Value(0.0, label='x2')\n",
    "\n",
    "    w1 = Value(-3.0, label='w1')\n",
    "    w2 = Value(1.0, label='w2')\n",
    "\n",
    "    b = Value(6.88, label='b')\n",
    "\n",
    "    x1w1 = x1 * w1; x1w1.label = \"x1w1\"\n",
    "    x2w2 = x2 * w2; x2w2.label = \"x2w2\"\n",
    "    x1w1x2w2 = x1w1 + x2w2; x1w1x2w2.label = \"x1w1x2w2\"\n",
    "    n = x1w1x2w2 + b; n.label = \"n\"\n",
    "    o = n.tanh(); o.label=\"o\"\n",
    "    L1 = o.data\n",
    "\n",
    "    h = 0.001\n",
    "\n",
    "    x1 = Value(2.0, label='x1')\n",
    "    \n",
    "    x2 = Value(0.0, label='x2')\n",
    "\n",
    "    w1 = Value(-3.0, label='w1')\n",
    "    w2 = Value(1.0, label='w2')\n",
    "\n",
    "    b = Value(6.88, label='b')\n",
    "\n",
    "    x1w1 = x1 * w1; x1w1.label = \"x1w1\"\n",
    "    x2w2 = x2 * w2; x2w2.label = \"x2w2\"\n",
    "    x1w1x2w2 = x1w1 + x2w2; x1w1x2w2.label = \"x1w1x2w2\"\n",
    "    n = x1w1x2w2 + b; n.label = \"n\"\n",
    "    n.data += h\n",
    "    o = n.tanh(); o.label=\"o\"\n",
    "    L2 = o.data\n",
    "\n",
    "    print((L2 - L1)/h)\n"
   ]
  },
  {
   "cell_type": "code",
   "execution_count": 48,
   "metadata": {},
   "outputs": [
    {
     "name": "stdout",
     "output_type": "stream",
     "text": [
      "0.5006179307184278\n"
     ]
    }
   ],
   "source": [
    "numerical_check()"
   ]
  },
  {
   "cell_type": "code",
   "execution_count": 49,
   "metadata": {},
   "outputs": [
    {
     "data": {
      "text/plain": [
       "[Value(data=6.88),\n",
       " Value(data=1.0),\n",
       " Value(data=0.0),\n",
       " Value(data=0.0),\n",
       " Value(data=2.0),\n",
       " Value(data=-3.0),\n",
       " Value(data=-6.0),\n",
       " Value(data=-6.0),\n",
       " Value(data=0.8799999999999999),\n",
       " Value(data=0.7064193203972352)]"
      ]
     },
     "execution_count": 49,
     "metadata": {},
     "output_type": "execute_result"
    }
   ],
   "source": [
    "# topological sort\n",
    "topo = []\n",
    "visited = set()\n",
    "\n",
    "def build_topo(v):\n",
    "    if v not in visited:\n",
    "        visited.add(v)\n",
    "        for child in v._prev:\n",
    "            build_topo(child)\n",
    "        topo.append(v)  \n",
    "\n",
    "\n",
    "build_topo(o)\n",
    "topo          "
   ]
  },
  {
   "cell_type": "code",
   "execution_count": 50,
   "metadata": {},
   "outputs": [],
   "source": [
    "o.backward()"
   ]
  },
  {
   "cell_type": "code",
   "execution_count": null,
   "metadata": {},
   "outputs": [],
   "source": []
  },
  {
   "cell_type": "markdown",
   "metadata": {},
   "source": [
    "# Breaking up the Tanh"
   ]
  },
  {
   "cell_type": "code",
   "execution_count": 51,
   "metadata": {},
   "outputs": [],
   "source": [
    "class Value:\n",
    "    def __init__(self, data, _children=(), _op=(), label=''):\n",
    "        self.data = data\n",
    "        self._backward = lambda: None\n",
    "        self._prev = set(_children)\n",
    "        self._op = _op\n",
    "        self.label=label\n",
    "        self.grad = 0.0\n",
    "\n",
    "    def __add__(self, other):\n",
    "        other = other if isinstance(other, Value) else Value(other)\n",
    "        out = Value(self.data + other.data, _children=(self, other), _op=\"+\")\n",
    "\n",
    "        def _backward():\n",
    "            self.grad += 1 * out.grad \n",
    "            other.grad += 1 * out.grad \n",
    "\n",
    "        out._backward = _backward\n",
    "        return out\n",
    "\n",
    "\n",
    "    def __radd__(self, other):\n",
    "        return self + other\n",
    "\n",
    "\n",
    "    def __neg__(self):\n",
    "        return -1 * self\n",
    "\n",
    "\n",
    "    def __sub__(self, other):\n",
    "        return self + (-other)    \n",
    "\n",
    "\n",
    "    def __mul__(self, other):\n",
    "        other = other if isinstance(other, Value) else Value(other)\n",
    "        out = Value(self.data * other.data, _children=(self, other), _op=\"*\")\n",
    "\n",
    "        def _backward():\n",
    "            self.grad += other.data * out.grad\n",
    "            other.grad += self.data * out.grad\n",
    "\n",
    "        out._backward = _backward\n",
    "        return out\n",
    "\n",
    "\n",
    "    def __rmul__(self, other):\n",
    "        return self * other \n",
    "\n",
    "\n",
    "    def __truediv__(self, other):\n",
    "        return self * (other**(-1))     \n",
    "\n",
    "\n",
    "    def exp(self):\n",
    "        out = Value(math.exp(self.data), _children=(self,), _op=\"exp\")\n",
    "\n",
    "        def _backward():\n",
    "            self.grad += out.data * out.grad\n",
    "\n",
    "        out._backward = _backward\n",
    "        return out    \n",
    "\n",
    "    def __pow__(self, other):\n",
    "        assert isinstance(other, (int, float)), \"power must be int, float\"\n",
    "\n",
    "        out = Value(math.pow(self.data, other), _children=(self, other), _op=f\"pow_{other}\")\n",
    "\n",
    "        def _backward():\n",
    "            # self.grad += out.grad * other * math.pow(self.data, other - 1)\n",
    "            self.grad += other * (self.data**(other - 1)) * out.grad\n",
    "\n",
    "        out._backward = _backward    \n",
    "        return out    \n",
    "\n",
    "\n",
    "    def tanh(self):\n",
    "        x = self.data\n",
    "        t = (math.exp(2*x) - 1) / (math.exp(2*x) + 1)\n",
    "        out = Value(t, _children=(self,), _op=\"tanh\")\n",
    "\n",
    "        def _backward():\n",
    "            self.grad += (1 - t**2) * out.grad\n",
    "\n",
    "        out._backward = _backward\n",
    "        return out        \n",
    "\n",
    "\n",
    "    def backward(self):\n",
    "        # topological sort\n",
    "        topo = []\n",
    "        visited = set()\n",
    "\n",
    "        def build_topo(v):\n",
    "            if v not in visited:\n",
    "                visited.add(v)\n",
    "                for child in v._prev:\n",
    "                    build_topo(child)\n",
    "                topo.append(v)  \n",
    "\n",
    "        build_topo(self)\n",
    "        self.grad = 1.\n",
    "\n",
    "        for node in reversed(topo):\n",
    "            node._backward()\n",
    "\n",
    "\n",
    "    def __repr__(self):\n",
    "        return f\"Value(data={self.data})\"  "
   ]
  },
  {
   "cell_type": "code",
   "execution_count": 52,
   "metadata": {},
   "outputs": [],
   "source": [
    "a = Value(2.)\n",
    "b = Value(4.)"
   ]
  },
  {
   "cell_type": "code",
   "execution_count": 53,
   "metadata": {},
   "outputs": [
    {
     "data": {
      "text/plain": [
       "Value(data=4.0)"
      ]
     },
     "execution_count": 53,
     "metadata": {},
     "output_type": "execute_result"
    }
   ],
   "source": [
    "s = a ** 2\n",
    "s"
   ]
  },
  {
   "cell_type": "code",
   "execution_count": 54,
   "metadata": {},
   "outputs": [
    {
     "data": {
      "text/plain": [
       "Value(data=0.5)"
      ]
     },
     "execution_count": 54,
     "metadata": {},
     "output_type": "execute_result"
    }
   ],
   "source": [
    "a / b"
   ]
  },
  {
   "cell_type": "code",
   "execution_count": 55,
   "metadata": {},
   "outputs": [
    {
     "data": {
      "text/plain": [
       "Value(data=4.0)"
      ]
     },
     "execution_count": 55,
     "metadata": {},
     "output_type": "execute_result"
    }
   ],
   "source": [
    "a**2"
   ]
  },
  {
   "cell_type": "code",
   "execution_count": 56,
   "metadata": {},
   "outputs": [
    {
     "data": {
      "text/plain": [
       "Value(data=-2.0)"
      ]
     },
     "execution_count": 56,
     "metadata": {},
     "output_type": "execute_result"
    }
   ],
   "source": [
    "a - b"
   ]
  },
  {
   "cell_type": "code",
   "execution_count": 57,
   "metadata": {},
   "outputs": [],
   "source": [
    "x1 = Value(2.0, label='x1')\n",
    "x2 = Value(0.0, label='x2')\n",
    "\n",
    "w1 = Value(-3.0, label='w1')\n",
    "w2 = Value(1.0, label='w2')\n",
    "\n",
    "b = Value(6.88, label='b')\n",
    "\n",
    "x1w1 = x1 * w1; x1w1.label = \"x1w1\"\n",
    "x2w2 = x2 * w2; x2w2.label = \"x2w2\"\n",
    "x1w1x2w2 = x1w1 + x2w2; x1w1x2w2.label = \"x1w1x2w2\"\n",
    "n = x1w1x2w2 + b; n.label = \"n\"\n",
    "# o = n.tanh(); o.label=\"o\""
   ]
  },
  {
   "cell_type": "code",
   "execution_count": 58,
   "metadata": {},
   "outputs": [],
   "source": [
    "o = n**4"
   ]
  },
  {
   "cell_type": "code",
   "execution_count": 59,
   "metadata": {},
   "outputs": [
    {
     "ename": "AttributeError",
     "evalue": "'int' object has no attribute '_prev'",
     "output_type": "error",
     "traceback": [
      "\u001b[0;31m---------------------------------------------------------------------------\u001b[0m",
      "\u001b[0;31mAttributeError\u001b[0m                            Traceback (most recent call last)",
      "\u001b[0;32m/tmp/ipykernel_200762/3342012555.py\u001b[0m in \u001b[0;36m<module>\u001b[0;34m\u001b[0m\n\u001b[0;32m----> 1\u001b[0;31m \u001b[0mdraw_dot\u001b[0m\u001b[0;34m(\u001b[0m\u001b[0mo\u001b[0m\u001b[0;34m)\u001b[0m\u001b[0;34m\u001b[0m\u001b[0;34m\u001b[0m\u001b[0m\n\u001b[0m",
      "\u001b[0;32m/tmp/ipykernel_200762/1609113098.py\u001b[0m in \u001b[0;36mdraw_dot\u001b[0;34m(root)\u001b[0m\n\u001b[1;32m      2\u001b[0m     \u001b[0mdot\u001b[0m \u001b[0;34m=\u001b[0m \u001b[0mDigraph\u001b[0m\u001b[0;34m(\u001b[0m\u001b[0mformat\u001b[0m\u001b[0;34m=\u001b[0m\u001b[0;34m'svg'\u001b[0m\u001b[0;34m,\u001b[0m \u001b[0mgraph_attr\u001b[0m\u001b[0;34m=\u001b[0m\u001b[0;34m{\u001b[0m\u001b[0;34m\"rankdir\"\u001b[0m\u001b[0;34m:\u001b[0m\u001b[0;34m\"LR\"\u001b[0m\u001b[0;34m}\u001b[0m\u001b[0;34m)\u001b[0m\u001b[0;34m\u001b[0m\u001b[0;34m\u001b[0m\u001b[0m\n\u001b[1;32m      3\u001b[0m \u001b[0;34m\u001b[0m\u001b[0m\n\u001b[0;32m----> 4\u001b[0;31m     \u001b[0mnodes\u001b[0m\u001b[0;34m,\u001b[0m \u001b[0medges\u001b[0m \u001b[0;34m=\u001b[0m \u001b[0mtrace\u001b[0m\u001b[0;34m(\u001b[0m\u001b[0mroot\u001b[0m\u001b[0;34m)\u001b[0m\u001b[0;34m\u001b[0m\u001b[0;34m\u001b[0m\u001b[0m\n\u001b[0m\u001b[1;32m      5\u001b[0m     \u001b[0;32mfor\u001b[0m \u001b[0mn\u001b[0m \u001b[0;32min\u001b[0m \u001b[0mnodes\u001b[0m\u001b[0;34m:\u001b[0m\u001b[0;34m\u001b[0m\u001b[0;34m\u001b[0m\u001b[0m\n\u001b[1;32m      6\u001b[0m         \u001b[0muid\u001b[0m \u001b[0;34m=\u001b[0m \u001b[0mstr\u001b[0m\u001b[0;34m(\u001b[0m\u001b[0mid\u001b[0m\u001b[0;34m(\u001b[0m\u001b[0mn\u001b[0m\u001b[0;34m)\u001b[0m\u001b[0;34m)\u001b[0m\u001b[0;34m\u001b[0m\u001b[0;34m\u001b[0m\u001b[0m\n",
      "\u001b[0;32m/tmp/ipykernel_200762/3697092343.py\u001b[0m in \u001b[0;36mtrace\u001b[0;34m(root)\u001b[0m\n\u001b[1;32m      8\u001b[0m                 \u001b[0medges\u001b[0m\u001b[0;34m.\u001b[0m\u001b[0madd\u001b[0m\u001b[0;34m(\u001b[0m\u001b[0;34m(\u001b[0m\u001b[0mchild\u001b[0m\u001b[0;34m,\u001b[0m \u001b[0mv\u001b[0m\u001b[0;34m)\u001b[0m\u001b[0;34m)\u001b[0m\u001b[0;34m\u001b[0m\u001b[0;34m\u001b[0m\u001b[0m\n\u001b[1;32m      9\u001b[0m                 \u001b[0mbuild\u001b[0m\u001b[0;34m(\u001b[0m\u001b[0mchild\u001b[0m\u001b[0;34m)\u001b[0m\u001b[0;34m\u001b[0m\u001b[0;34m\u001b[0m\u001b[0m\n\u001b[0;32m---> 10\u001b[0;31m     \u001b[0mbuild\u001b[0m\u001b[0;34m(\u001b[0m\u001b[0mroot\u001b[0m\u001b[0;34m)\u001b[0m\u001b[0;34m\u001b[0m\u001b[0;34m\u001b[0m\u001b[0m\n\u001b[0m\u001b[1;32m     11\u001b[0m     \u001b[0;32mreturn\u001b[0m \u001b[0mnodes\u001b[0m\u001b[0;34m,\u001b[0m \u001b[0medges\u001b[0m\u001b[0;34m\u001b[0m\u001b[0;34m\u001b[0m\u001b[0m\n",
      "\u001b[0;32m/tmp/ipykernel_200762/3697092343.py\u001b[0m in \u001b[0;36mbuild\u001b[0;34m(v)\u001b[0m\n\u001b[1;32m      7\u001b[0m             \u001b[0;32mfor\u001b[0m \u001b[0mchild\u001b[0m \u001b[0;32min\u001b[0m \u001b[0mv\u001b[0m\u001b[0;34m.\u001b[0m\u001b[0m_prev\u001b[0m\u001b[0;34m:\u001b[0m\u001b[0;34m\u001b[0m\u001b[0;34m\u001b[0m\u001b[0m\n\u001b[1;32m      8\u001b[0m                 \u001b[0medges\u001b[0m\u001b[0;34m.\u001b[0m\u001b[0madd\u001b[0m\u001b[0;34m(\u001b[0m\u001b[0;34m(\u001b[0m\u001b[0mchild\u001b[0m\u001b[0;34m,\u001b[0m \u001b[0mv\u001b[0m\u001b[0;34m)\u001b[0m\u001b[0;34m)\u001b[0m\u001b[0;34m\u001b[0m\u001b[0;34m\u001b[0m\u001b[0m\n\u001b[0;32m----> 9\u001b[0;31m                 \u001b[0mbuild\u001b[0m\u001b[0;34m(\u001b[0m\u001b[0mchild\u001b[0m\u001b[0;34m)\u001b[0m\u001b[0;34m\u001b[0m\u001b[0;34m\u001b[0m\u001b[0m\n\u001b[0m\u001b[1;32m     10\u001b[0m     \u001b[0mbuild\u001b[0m\u001b[0;34m(\u001b[0m\u001b[0mroot\u001b[0m\u001b[0;34m)\u001b[0m\u001b[0;34m\u001b[0m\u001b[0;34m\u001b[0m\u001b[0m\n\u001b[1;32m     11\u001b[0m     \u001b[0;32mreturn\u001b[0m \u001b[0mnodes\u001b[0m\u001b[0;34m,\u001b[0m \u001b[0medges\u001b[0m\u001b[0;34m\u001b[0m\u001b[0;34m\u001b[0m\u001b[0m\n",
      "\u001b[0;32m/tmp/ipykernel_200762/3697092343.py\u001b[0m in \u001b[0;36mbuild\u001b[0;34m(v)\u001b[0m\n\u001b[1;32m      5\u001b[0m         \u001b[0;32mif\u001b[0m \u001b[0mv\u001b[0m \u001b[0;32mnot\u001b[0m \u001b[0;32min\u001b[0m \u001b[0mnodes\u001b[0m\u001b[0;34m:\u001b[0m\u001b[0;34m\u001b[0m\u001b[0;34m\u001b[0m\u001b[0m\n\u001b[1;32m      6\u001b[0m             \u001b[0mnodes\u001b[0m\u001b[0;34m.\u001b[0m\u001b[0madd\u001b[0m\u001b[0;34m(\u001b[0m\u001b[0mv\u001b[0m\u001b[0;34m)\u001b[0m\u001b[0;34m\u001b[0m\u001b[0;34m\u001b[0m\u001b[0m\n\u001b[0;32m----> 7\u001b[0;31m             \u001b[0;32mfor\u001b[0m \u001b[0mchild\u001b[0m \u001b[0;32min\u001b[0m \u001b[0mv\u001b[0m\u001b[0;34m.\u001b[0m\u001b[0m_prev\u001b[0m\u001b[0;34m:\u001b[0m\u001b[0;34m\u001b[0m\u001b[0;34m\u001b[0m\u001b[0m\n\u001b[0m\u001b[1;32m      8\u001b[0m                 \u001b[0medges\u001b[0m\u001b[0;34m.\u001b[0m\u001b[0madd\u001b[0m\u001b[0;34m(\u001b[0m\u001b[0;34m(\u001b[0m\u001b[0mchild\u001b[0m\u001b[0;34m,\u001b[0m \u001b[0mv\u001b[0m\u001b[0;34m)\u001b[0m\u001b[0;34m)\u001b[0m\u001b[0;34m\u001b[0m\u001b[0;34m\u001b[0m\u001b[0m\n\u001b[1;32m      9\u001b[0m                 \u001b[0mbuild\u001b[0m\u001b[0;34m(\u001b[0m\u001b[0mchild\u001b[0m\u001b[0;34m)\u001b[0m\u001b[0;34m\u001b[0m\u001b[0;34m\u001b[0m\u001b[0m\n",
      "\u001b[0;31mAttributeError\u001b[0m: 'int' object has no attribute '_prev'"
     ]
    }
   ],
   "source": [
    "draw_dot(o)"
   ]
  },
  {
   "cell_type": "code",
   "execution_count": 60,
   "metadata": {},
   "outputs": [
    {
     "ename": "AttributeError",
     "evalue": "'int' object has no attribute '_prev'",
     "output_type": "error",
     "traceback": [
      "\u001b[0;31m---------------------------------------------------------------------------\u001b[0m",
      "\u001b[0;31mAttributeError\u001b[0m                            Traceback (most recent call last)",
      "\u001b[0;32m/tmp/ipykernel_200762/3433197617.py\u001b[0m in \u001b[0;36m<module>\u001b[0;34m\u001b[0m\n\u001b[0;32m----> 1\u001b[0;31m \u001b[0mo\u001b[0m\u001b[0;34m.\u001b[0m\u001b[0mbackward\u001b[0m\u001b[0;34m(\u001b[0m\u001b[0;34m)\u001b[0m\u001b[0;34m\u001b[0m\u001b[0;34m\u001b[0m\u001b[0m\n\u001b[0m",
      "\u001b[0;32m/tmp/ipykernel_200762/2174046783.py\u001b[0m in \u001b[0;36mbackward\u001b[0;34m(self)\u001b[0m\n\u001b[1;32m     98\u001b[0m                 \u001b[0mtopo\u001b[0m\u001b[0;34m.\u001b[0m\u001b[0mappend\u001b[0m\u001b[0;34m(\u001b[0m\u001b[0mv\u001b[0m\u001b[0;34m)\u001b[0m\u001b[0;34m\u001b[0m\u001b[0;34m\u001b[0m\u001b[0m\n\u001b[1;32m     99\u001b[0m \u001b[0;34m\u001b[0m\u001b[0m\n\u001b[0;32m--> 100\u001b[0;31m         \u001b[0mbuild_topo\u001b[0m\u001b[0;34m(\u001b[0m\u001b[0mself\u001b[0m\u001b[0;34m)\u001b[0m\u001b[0;34m\u001b[0m\u001b[0;34m\u001b[0m\u001b[0m\n\u001b[0m\u001b[1;32m    101\u001b[0m         \u001b[0mself\u001b[0m\u001b[0;34m.\u001b[0m\u001b[0mgrad\u001b[0m \u001b[0;34m=\u001b[0m \u001b[0;36m1.\u001b[0m\u001b[0;34m\u001b[0m\u001b[0;34m\u001b[0m\u001b[0m\n\u001b[1;32m    102\u001b[0m \u001b[0;34m\u001b[0m\u001b[0m\n",
      "\u001b[0;32m/tmp/ipykernel_200762/2174046783.py\u001b[0m in \u001b[0;36mbuild_topo\u001b[0;34m(v)\u001b[0m\n\u001b[1;32m     95\u001b[0m                 \u001b[0mvisited\u001b[0m\u001b[0;34m.\u001b[0m\u001b[0madd\u001b[0m\u001b[0;34m(\u001b[0m\u001b[0mv\u001b[0m\u001b[0;34m)\u001b[0m\u001b[0;34m\u001b[0m\u001b[0;34m\u001b[0m\u001b[0m\n\u001b[1;32m     96\u001b[0m                 \u001b[0;32mfor\u001b[0m \u001b[0mchild\u001b[0m \u001b[0;32min\u001b[0m \u001b[0mv\u001b[0m\u001b[0;34m.\u001b[0m\u001b[0m_prev\u001b[0m\u001b[0;34m:\u001b[0m\u001b[0;34m\u001b[0m\u001b[0;34m\u001b[0m\u001b[0m\n\u001b[0;32m---> 97\u001b[0;31m                     \u001b[0mbuild_topo\u001b[0m\u001b[0;34m(\u001b[0m\u001b[0mchild\u001b[0m\u001b[0;34m)\u001b[0m\u001b[0;34m\u001b[0m\u001b[0;34m\u001b[0m\u001b[0m\n\u001b[0m\u001b[1;32m     98\u001b[0m                 \u001b[0mtopo\u001b[0m\u001b[0;34m.\u001b[0m\u001b[0mappend\u001b[0m\u001b[0;34m(\u001b[0m\u001b[0mv\u001b[0m\u001b[0;34m)\u001b[0m\u001b[0;34m\u001b[0m\u001b[0;34m\u001b[0m\u001b[0m\n\u001b[1;32m     99\u001b[0m \u001b[0;34m\u001b[0m\u001b[0m\n",
      "\u001b[0;32m/tmp/ipykernel_200762/2174046783.py\u001b[0m in \u001b[0;36mbuild_topo\u001b[0;34m(v)\u001b[0m\n\u001b[1;32m     94\u001b[0m             \u001b[0;32mif\u001b[0m \u001b[0mv\u001b[0m \u001b[0;32mnot\u001b[0m \u001b[0;32min\u001b[0m \u001b[0mvisited\u001b[0m\u001b[0;34m:\u001b[0m\u001b[0;34m\u001b[0m\u001b[0;34m\u001b[0m\u001b[0m\n\u001b[1;32m     95\u001b[0m                 \u001b[0mvisited\u001b[0m\u001b[0;34m.\u001b[0m\u001b[0madd\u001b[0m\u001b[0;34m(\u001b[0m\u001b[0mv\u001b[0m\u001b[0;34m)\u001b[0m\u001b[0;34m\u001b[0m\u001b[0;34m\u001b[0m\u001b[0m\n\u001b[0;32m---> 96\u001b[0;31m                 \u001b[0;32mfor\u001b[0m \u001b[0mchild\u001b[0m \u001b[0;32min\u001b[0m \u001b[0mv\u001b[0m\u001b[0;34m.\u001b[0m\u001b[0m_prev\u001b[0m\u001b[0;34m:\u001b[0m\u001b[0;34m\u001b[0m\u001b[0;34m\u001b[0m\u001b[0m\n\u001b[0m\u001b[1;32m     97\u001b[0m                     \u001b[0mbuild_topo\u001b[0m\u001b[0;34m(\u001b[0m\u001b[0mchild\u001b[0m\u001b[0;34m)\u001b[0m\u001b[0;34m\u001b[0m\u001b[0;34m\u001b[0m\u001b[0m\n\u001b[1;32m     98\u001b[0m                 \u001b[0mtopo\u001b[0m\u001b[0;34m.\u001b[0m\u001b[0mappend\u001b[0m\u001b[0;34m(\u001b[0m\u001b[0mv\u001b[0m\u001b[0;34m)\u001b[0m\u001b[0;34m\u001b[0m\u001b[0;34m\u001b[0m\u001b[0m\n",
      "\u001b[0;31mAttributeError\u001b[0m: 'int' object has no attribute '_prev'"
     ]
    }
   ],
   "source": [
    "o.backward()"
   ]
  },
  {
   "cell_type": "code",
   "execution_count": null,
   "metadata": {},
   "outputs": [],
   "source": []
  },
  {
   "cell_type": "code",
   "execution_count": 70,
   "metadata": {},
   "outputs": [
    {
     "data": {
      "text/plain": [
       "Value(data=0.8799999999999999)"
      ]
     },
     "execution_count": 70,
     "metadata": {},
     "output_type": "execute_result"
    }
   ],
   "source": [
    "n"
   ]
  },
  {
   "cell_type": "code",
   "execution_count": 62,
   "metadata": {},
   "outputs": [],
   "source": [
    "a.exp().backward()"
   ]
  },
  {
   "cell_type": "code",
   "execution_count": 63,
   "metadata": {},
   "outputs": [
    {
     "data": {
      "text/plain": [
       "Value(data=2.0)"
      ]
     },
     "execution_count": 63,
     "metadata": {},
     "output_type": "execute_result"
    }
   ],
   "source": [
    "a"
   ]
  },
  {
   "cell_type": "markdown",
   "metadata": {},
   "source": [
    "# Torch Autograd"
   ]
  },
  {
   "cell_type": "code",
   "execution_count": 64,
   "metadata": {},
   "outputs": [],
   "source": [
    "import torch"
   ]
  },
  {
   "cell_type": "code",
   "execution_count": 65,
   "metadata": {},
   "outputs": [],
   "source": [
    "x1 = torch.tensor([2.], dtype=torch.float64, requires_grad=True)\n",
    "w1 = torch.tensor([-3.], dtype=torch.float64, requires_grad=True)\n",
    "x2 = torch.tensor([0.], dtype=torch.float64, requires_grad=True)\n",
    "w2 = torch.tensor([1.], dtype=torch.float64, requires_grad=True)\n",
    "b = torch.tensor([6.88], dtype=torch.float64, requires_grad=True)"
   ]
  },
  {
   "cell_type": "code",
   "execution_count": 66,
   "metadata": {},
   "outputs": [],
   "source": [
    "n = x1*w1 + x2*w2 + b\n",
    "o = torch.tanh(n)"
   ]
  },
  {
   "cell_type": "code",
   "execution_count": 67,
   "metadata": {},
   "outputs": [
    {
     "data": {
      "text/plain": [
       "tensor([0.7064], dtype=torch.float64, grad_fn=<TanhBackward0>)"
      ]
     },
     "execution_count": 67,
     "metadata": {},
     "output_type": "execute_result"
    }
   ],
   "source": [
    "o"
   ]
  },
  {
   "cell_type": "code",
   "execution_count": 68,
   "metadata": {},
   "outputs": [],
   "source": [
    "o.backward()"
   ]
  },
  {
   "cell_type": "code",
   "execution_count": 105,
   "metadata": {},
   "outputs": [
    {
     "data": {
      "text/plain": [
       "Value(data=-0.2292095535177093)"
      ]
     },
     "execution_count": 105,
     "metadata": {},
     "output_type": "execute_result"
    }
   ],
   "source": [
    "class Neuron:\n",
    "    def __init__(self, n_input):\n",
    "        self.w = [Value(data=random.uniform(-1,1)) for _ in range(n_input)]\n",
    "        self.b = Value(data=random.uniform(-1,1))\n",
    "\n",
    "    def __call__(self, x):\n",
    "        act = sum((w_i * x_i for w_i, x_i in list(zip(self.w, x))), self.b)\n",
    "        out = act.tanh()\n",
    "\n",
    "        return out  \n",
    "\n",
    "    def parameters(self):\n",
    "        return self.w + [self.b]\n",
    "\n",
    "\n",
    "\n",
    "class Layer:\n",
    "    def __init__(self, n_input, n_output):\n",
    "        self.neurons = [Neuron(n_input) for _ in range(n_output)]\n",
    "\n",
    "    def __call__(self, x):\n",
    "        outs = [neuron(x) for neuron in self.neurons]\n",
    "\n",
    "        return outs[0] if len(outs) == 1 else outs\n",
    "\n",
    "    def parameters(self):\n",
    "        return [param for neuron in self.neurons for param in neuron.parameters()]   \n",
    "\n",
    "\n",
    "class MLP:\n",
    "    def __init__(self, n_input, n_output):\n",
    "        all_sizes = [n_input] + n_output\n",
    "        self.layers = [Layer(all_sizes[i], all_sizes[i+1]) for i in range(len(n_output))]\n",
    "\n",
    "    def __call__(self, x):\n",
    "        for layer in self.layers:\n",
    "            x = layer(x) \n",
    "\n",
    "        return x   \n",
    "\n",
    "    def parameters(self):\n",
    "        return [param for layer in self.layers for param in layer.parameters()]              \n",
    "\n",
    "\n",
    "x = [2., 3.]\n",
    "n = MLP(2, [4, 4, 1])\n",
    "n(x)        "
   ]
  },
  {
   "cell_type": "code",
   "execution_count": 83,
   "metadata": {},
   "outputs": [
    {
     "ename": "AttributeError",
     "evalue": "'MLP' object has no attribute '_prev'",
     "output_type": "error",
     "traceback": [
      "\u001b[0;31m---------------------------------------------------------------------------\u001b[0m",
      "\u001b[0;31mAttributeError\u001b[0m                            Traceback (most recent call last)",
      "\u001b[0;32m/tmp/ipykernel_200762/1472179649.py\u001b[0m in \u001b[0;36m<module>\u001b[0;34m\u001b[0m\n\u001b[0;32m----> 1\u001b[0;31m \u001b[0mdraw_dot\u001b[0m\u001b[0;34m(\u001b[0m\u001b[0mn\u001b[0m\u001b[0;34m)\u001b[0m\u001b[0;34m\u001b[0m\u001b[0;34m\u001b[0m\u001b[0m\n\u001b[0m",
      "\u001b[0;32m/tmp/ipykernel_200762/1609113098.py\u001b[0m in \u001b[0;36mdraw_dot\u001b[0;34m(root)\u001b[0m\n\u001b[1;32m      2\u001b[0m     \u001b[0mdot\u001b[0m \u001b[0;34m=\u001b[0m \u001b[0mDigraph\u001b[0m\u001b[0;34m(\u001b[0m\u001b[0mformat\u001b[0m\u001b[0;34m=\u001b[0m\u001b[0;34m'svg'\u001b[0m\u001b[0;34m,\u001b[0m \u001b[0mgraph_attr\u001b[0m\u001b[0;34m=\u001b[0m\u001b[0;34m{\u001b[0m\u001b[0;34m\"rankdir\"\u001b[0m\u001b[0;34m:\u001b[0m\u001b[0;34m\"LR\"\u001b[0m\u001b[0;34m}\u001b[0m\u001b[0;34m)\u001b[0m\u001b[0;34m\u001b[0m\u001b[0;34m\u001b[0m\u001b[0m\n\u001b[1;32m      3\u001b[0m \u001b[0;34m\u001b[0m\u001b[0m\n\u001b[0;32m----> 4\u001b[0;31m     \u001b[0mnodes\u001b[0m\u001b[0;34m,\u001b[0m \u001b[0medges\u001b[0m \u001b[0;34m=\u001b[0m \u001b[0mtrace\u001b[0m\u001b[0;34m(\u001b[0m\u001b[0mroot\u001b[0m\u001b[0;34m)\u001b[0m\u001b[0;34m\u001b[0m\u001b[0;34m\u001b[0m\u001b[0m\n\u001b[0m\u001b[1;32m      5\u001b[0m     \u001b[0;32mfor\u001b[0m \u001b[0mn\u001b[0m \u001b[0;32min\u001b[0m \u001b[0mnodes\u001b[0m\u001b[0;34m:\u001b[0m\u001b[0;34m\u001b[0m\u001b[0;34m\u001b[0m\u001b[0m\n\u001b[1;32m      6\u001b[0m         \u001b[0muid\u001b[0m \u001b[0;34m=\u001b[0m \u001b[0mstr\u001b[0m\u001b[0;34m(\u001b[0m\u001b[0mid\u001b[0m\u001b[0;34m(\u001b[0m\u001b[0mn\u001b[0m\u001b[0;34m)\u001b[0m\u001b[0;34m)\u001b[0m\u001b[0;34m\u001b[0m\u001b[0;34m\u001b[0m\u001b[0m\n",
      "\u001b[0;32m/tmp/ipykernel_200762/3697092343.py\u001b[0m in \u001b[0;36mtrace\u001b[0;34m(root)\u001b[0m\n\u001b[1;32m      8\u001b[0m                 \u001b[0medges\u001b[0m\u001b[0;34m.\u001b[0m\u001b[0madd\u001b[0m\u001b[0;34m(\u001b[0m\u001b[0;34m(\u001b[0m\u001b[0mchild\u001b[0m\u001b[0;34m,\u001b[0m \u001b[0mv\u001b[0m\u001b[0;34m)\u001b[0m\u001b[0;34m)\u001b[0m\u001b[0;34m\u001b[0m\u001b[0;34m\u001b[0m\u001b[0m\n\u001b[1;32m      9\u001b[0m                 \u001b[0mbuild\u001b[0m\u001b[0;34m(\u001b[0m\u001b[0mchild\u001b[0m\u001b[0;34m)\u001b[0m\u001b[0;34m\u001b[0m\u001b[0;34m\u001b[0m\u001b[0m\n\u001b[0;32m---> 10\u001b[0;31m     \u001b[0mbuild\u001b[0m\u001b[0;34m(\u001b[0m\u001b[0mroot\u001b[0m\u001b[0;34m)\u001b[0m\u001b[0;34m\u001b[0m\u001b[0;34m\u001b[0m\u001b[0m\n\u001b[0m\u001b[1;32m     11\u001b[0m     \u001b[0;32mreturn\u001b[0m \u001b[0mnodes\u001b[0m\u001b[0;34m,\u001b[0m \u001b[0medges\u001b[0m\u001b[0;34m\u001b[0m\u001b[0;34m\u001b[0m\u001b[0m\n",
      "\u001b[0;32m/tmp/ipykernel_200762/3697092343.py\u001b[0m in \u001b[0;36mbuild\u001b[0;34m(v)\u001b[0m\n\u001b[1;32m      5\u001b[0m         \u001b[0;32mif\u001b[0m \u001b[0mv\u001b[0m \u001b[0;32mnot\u001b[0m \u001b[0;32min\u001b[0m \u001b[0mnodes\u001b[0m\u001b[0;34m:\u001b[0m\u001b[0;34m\u001b[0m\u001b[0;34m\u001b[0m\u001b[0m\n\u001b[1;32m      6\u001b[0m             \u001b[0mnodes\u001b[0m\u001b[0;34m.\u001b[0m\u001b[0madd\u001b[0m\u001b[0;34m(\u001b[0m\u001b[0mv\u001b[0m\u001b[0;34m)\u001b[0m\u001b[0;34m\u001b[0m\u001b[0;34m\u001b[0m\u001b[0m\n\u001b[0;32m----> 7\u001b[0;31m             \u001b[0;32mfor\u001b[0m \u001b[0mchild\u001b[0m \u001b[0;32min\u001b[0m \u001b[0mv\u001b[0m\u001b[0;34m.\u001b[0m\u001b[0m_prev\u001b[0m\u001b[0;34m:\u001b[0m\u001b[0;34m\u001b[0m\u001b[0;34m\u001b[0m\u001b[0m\n\u001b[0m\u001b[1;32m      8\u001b[0m                 \u001b[0medges\u001b[0m\u001b[0;34m.\u001b[0m\u001b[0madd\u001b[0m\u001b[0;34m(\u001b[0m\u001b[0;34m(\u001b[0m\u001b[0mchild\u001b[0m\u001b[0;34m,\u001b[0m \u001b[0mv\u001b[0m\u001b[0;34m)\u001b[0m\u001b[0;34m)\u001b[0m\u001b[0;34m\u001b[0m\u001b[0;34m\u001b[0m\u001b[0m\n\u001b[1;32m      9\u001b[0m                 \u001b[0mbuild\u001b[0m\u001b[0;34m(\u001b[0m\u001b[0mchild\u001b[0m\u001b[0;34m)\u001b[0m\u001b[0;34m\u001b[0m\u001b[0;34m\u001b[0m\u001b[0m\n",
      "\u001b[0;31mAttributeError\u001b[0m: 'MLP' object has no attribute '_prev'"
     ]
    }
   ],
   "source": [
    "draw_dot(n)"
   ]
  },
  {
   "cell_type": "code",
   "execution_count": 91,
   "metadata": {},
   "outputs": [
    {
     "data": {
      "text/plain": [
       "[Value(data=-0.2097176506438344),\n",
       " Value(data=-0.8104260798092614),\n",
       " Value(data=-0.31186305698024425),\n",
       " Value(data=-0.33094656993183047)]"
      ]
     },
     "execution_count": 91,
     "metadata": {},
     "output_type": "execute_result"
    }
   ],
   "source": [
    "xs = [\n",
    "    [2., 3., -1.],\n",
    "    [3., -1., 0.5],\n",
    "    [0.5, 1., 1.],\n",
    "    [1., 1., -1.]\n",
    "]\n",
    "\n",
    "ys = [1., -1, -1., 1.]\n",
    "y_pred = [n(x) for x in xs]\n",
    "y_pred"
   ]
  },
  {
   "cell_type": "code",
   "execution_count": 96,
   "metadata": {},
   "outputs": [
    {
     "data": {
      "text/plain": [
       "Value(data=0.9360765724644006)"
      ]
     },
     "execution_count": 96,
     "metadata": {},
     "output_type": "execute_result"
    }
   ],
   "source": [
    "loss = sum((y_p - y_t)**2 for y_p, y_t in zip(y_pred, ys)) / len(y_pred)\n",
    "loss"
   ]
  },
  {
   "cell_type": "code",
   "execution_count": 97,
   "metadata": {},
   "outputs": [
    {
     "ename": "AttributeError",
     "evalue": "'int' object has no attribute '_prev'",
     "output_type": "error",
     "traceback": [
      "\u001b[0;31m---------------------------------------------------------------------------\u001b[0m",
      "\u001b[0;31mAttributeError\u001b[0m                            Traceback (most recent call last)",
      "\u001b[0;32m/tmp/ipykernel_200762/2859123600.py\u001b[0m in \u001b[0;36m<module>\u001b[0;34m\u001b[0m\n\u001b[0;32m----> 1\u001b[0;31m \u001b[0mloss\u001b[0m\u001b[0;34m.\u001b[0m\u001b[0mbackward\u001b[0m\u001b[0;34m(\u001b[0m\u001b[0;34m)\u001b[0m\u001b[0;34m\u001b[0m\u001b[0;34m\u001b[0m\u001b[0m\n\u001b[0m",
      "\u001b[0;32m/tmp/ipykernel_200762/2174046783.py\u001b[0m in \u001b[0;36mbackward\u001b[0;34m(self)\u001b[0m\n\u001b[1;32m     98\u001b[0m                 \u001b[0mtopo\u001b[0m\u001b[0;34m.\u001b[0m\u001b[0mappend\u001b[0m\u001b[0;34m(\u001b[0m\u001b[0mv\u001b[0m\u001b[0;34m)\u001b[0m\u001b[0;34m\u001b[0m\u001b[0;34m\u001b[0m\u001b[0m\n\u001b[1;32m     99\u001b[0m \u001b[0;34m\u001b[0m\u001b[0m\n\u001b[0;32m--> 100\u001b[0;31m         \u001b[0mbuild_topo\u001b[0m\u001b[0;34m(\u001b[0m\u001b[0mself\u001b[0m\u001b[0;34m)\u001b[0m\u001b[0;34m\u001b[0m\u001b[0;34m\u001b[0m\u001b[0m\n\u001b[0m\u001b[1;32m    101\u001b[0m         \u001b[0mself\u001b[0m\u001b[0;34m.\u001b[0m\u001b[0mgrad\u001b[0m \u001b[0;34m=\u001b[0m \u001b[0;36m1.\u001b[0m\u001b[0;34m\u001b[0m\u001b[0;34m\u001b[0m\u001b[0m\n\u001b[1;32m    102\u001b[0m \u001b[0;34m\u001b[0m\u001b[0m\n",
      "\u001b[0;32m/tmp/ipykernel_200762/2174046783.py\u001b[0m in \u001b[0;36mbuild_topo\u001b[0;34m(v)\u001b[0m\n\u001b[1;32m     95\u001b[0m                 \u001b[0mvisited\u001b[0m\u001b[0;34m.\u001b[0m\u001b[0madd\u001b[0m\u001b[0;34m(\u001b[0m\u001b[0mv\u001b[0m\u001b[0;34m)\u001b[0m\u001b[0;34m\u001b[0m\u001b[0;34m\u001b[0m\u001b[0m\n\u001b[1;32m     96\u001b[0m                 \u001b[0;32mfor\u001b[0m \u001b[0mchild\u001b[0m \u001b[0;32min\u001b[0m \u001b[0mv\u001b[0m\u001b[0;34m.\u001b[0m\u001b[0m_prev\u001b[0m\u001b[0;34m:\u001b[0m\u001b[0;34m\u001b[0m\u001b[0;34m\u001b[0m\u001b[0m\n\u001b[0;32m---> 97\u001b[0;31m                     \u001b[0mbuild_topo\u001b[0m\u001b[0;34m(\u001b[0m\u001b[0mchild\u001b[0m\u001b[0;34m)\u001b[0m\u001b[0;34m\u001b[0m\u001b[0;34m\u001b[0m\u001b[0m\n\u001b[0m\u001b[1;32m     98\u001b[0m                 \u001b[0mtopo\u001b[0m\u001b[0;34m.\u001b[0m\u001b[0mappend\u001b[0m\u001b[0;34m(\u001b[0m\u001b[0mv\u001b[0m\u001b[0;34m)\u001b[0m\u001b[0;34m\u001b[0m\u001b[0;34m\u001b[0m\u001b[0m\n\u001b[1;32m     99\u001b[0m \u001b[0;34m\u001b[0m\u001b[0m\n",
      "\u001b[0;32m/tmp/ipykernel_200762/2174046783.py\u001b[0m in \u001b[0;36mbuild_topo\u001b[0;34m(v)\u001b[0m\n\u001b[1;32m     95\u001b[0m                 \u001b[0mvisited\u001b[0m\u001b[0;34m.\u001b[0m\u001b[0madd\u001b[0m\u001b[0;34m(\u001b[0m\u001b[0mv\u001b[0m\u001b[0;34m)\u001b[0m\u001b[0;34m\u001b[0m\u001b[0;34m\u001b[0m\u001b[0m\n\u001b[1;32m     96\u001b[0m                 \u001b[0;32mfor\u001b[0m \u001b[0mchild\u001b[0m \u001b[0;32min\u001b[0m \u001b[0mv\u001b[0m\u001b[0;34m.\u001b[0m\u001b[0m_prev\u001b[0m\u001b[0;34m:\u001b[0m\u001b[0;34m\u001b[0m\u001b[0;34m\u001b[0m\u001b[0m\n\u001b[0;32m---> 97\u001b[0;31m                     \u001b[0mbuild_topo\u001b[0m\u001b[0;34m(\u001b[0m\u001b[0mchild\u001b[0m\u001b[0;34m)\u001b[0m\u001b[0;34m\u001b[0m\u001b[0;34m\u001b[0m\u001b[0m\n\u001b[0m\u001b[1;32m     98\u001b[0m                 \u001b[0mtopo\u001b[0m\u001b[0;34m.\u001b[0m\u001b[0mappend\u001b[0m\u001b[0;34m(\u001b[0m\u001b[0mv\u001b[0m\u001b[0;34m)\u001b[0m\u001b[0;34m\u001b[0m\u001b[0;34m\u001b[0m\u001b[0m\n\u001b[1;32m     99\u001b[0m \u001b[0;34m\u001b[0m\u001b[0m\n",
      "\u001b[0;32m/tmp/ipykernel_200762/2174046783.py\u001b[0m in \u001b[0;36mbuild_topo\u001b[0;34m(v)\u001b[0m\n\u001b[1;32m     95\u001b[0m                 \u001b[0mvisited\u001b[0m\u001b[0;34m.\u001b[0m\u001b[0madd\u001b[0m\u001b[0;34m(\u001b[0m\u001b[0mv\u001b[0m\u001b[0;34m)\u001b[0m\u001b[0;34m\u001b[0m\u001b[0;34m\u001b[0m\u001b[0m\n\u001b[1;32m     96\u001b[0m                 \u001b[0;32mfor\u001b[0m \u001b[0mchild\u001b[0m \u001b[0;32min\u001b[0m \u001b[0mv\u001b[0m\u001b[0;34m.\u001b[0m\u001b[0m_prev\u001b[0m\u001b[0;34m:\u001b[0m\u001b[0;34m\u001b[0m\u001b[0;34m\u001b[0m\u001b[0m\n\u001b[0;32m---> 97\u001b[0;31m                     \u001b[0mbuild_topo\u001b[0m\u001b[0;34m(\u001b[0m\u001b[0mchild\u001b[0m\u001b[0;34m)\u001b[0m\u001b[0;34m\u001b[0m\u001b[0;34m\u001b[0m\u001b[0m\n\u001b[0m\u001b[1;32m     98\u001b[0m                 \u001b[0mtopo\u001b[0m\u001b[0;34m.\u001b[0m\u001b[0mappend\u001b[0m\u001b[0;34m(\u001b[0m\u001b[0mv\u001b[0m\u001b[0;34m)\u001b[0m\u001b[0;34m\u001b[0m\u001b[0;34m\u001b[0m\u001b[0m\n\u001b[1;32m     99\u001b[0m \u001b[0;34m\u001b[0m\u001b[0m\n",
      "\u001b[0;32m/tmp/ipykernel_200762/2174046783.py\u001b[0m in \u001b[0;36mbuild_topo\u001b[0;34m(v)\u001b[0m\n\u001b[1;32m     95\u001b[0m                 \u001b[0mvisited\u001b[0m\u001b[0;34m.\u001b[0m\u001b[0madd\u001b[0m\u001b[0;34m(\u001b[0m\u001b[0mv\u001b[0m\u001b[0;34m)\u001b[0m\u001b[0;34m\u001b[0m\u001b[0;34m\u001b[0m\u001b[0m\n\u001b[1;32m     96\u001b[0m                 \u001b[0;32mfor\u001b[0m \u001b[0mchild\u001b[0m \u001b[0;32min\u001b[0m \u001b[0mv\u001b[0m\u001b[0;34m.\u001b[0m\u001b[0m_prev\u001b[0m\u001b[0;34m:\u001b[0m\u001b[0;34m\u001b[0m\u001b[0;34m\u001b[0m\u001b[0m\n\u001b[0;32m---> 97\u001b[0;31m                     \u001b[0mbuild_topo\u001b[0m\u001b[0;34m(\u001b[0m\u001b[0mchild\u001b[0m\u001b[0;34m)\u001b[0m\u001b[0;34m\u001b[0m\u001b[0;34m\u001b[0m\u001b[0m\n\u001b[0m\u001b[1;32m     98\u001b[0m                 \u001b[0mtopo\u001b[0m\u001b[0;34m.\u001b[0m\u001b[0mappend\u001b[0m\u001b[0;34m(\u001b[0m\u001b[0mv\u001b[0m\u001b[0;34m)\u001b[0m\u001b[0;34m\u001b[0m\u001b[0;34m\u001b[0m\u001b[0m\n\u001b[1;32m     99\u001b[0m \u001b[0;34m\u001b[0m\u001b[0m\n",
      "\u001b[0;32m/tmp/ipykernel_200762/2174046783.py\u001b[0m in \u001b[0;36mbuild_topo\u001b[0;34m(v)\u001b[0m\n\u001b[1;32m     94\u001b[0m             \u001b[0;32mif\u001b[0m \u001b[0mv\u001b[0m \u001b[0;32mnot\u001b[0m \u001b[0;32min\u001b[0m \u001b[0mvisited\u001b[0m\u001b[0;34m:\u001b[0m\u001b[0;34m\u001b[0m\u001b[0;34m\u001b[0m\u001b[0m\n\u001b[1;32m     95\u001b[0m                 \u001b[0mvisited\u001b[0m\u001b[0;34m.\u001b[0m\u001b[0madd\u001b[0m\u001b[0;34m(\u001b[0m\u001b[0mv\u001b[0m\u001b[0;34m)\u001b[0m\u001b[0;34m\u001b[0m\u001b[0;34m\u001b[0m\u001b[0m\n\u001b[0;32m---> 96\u001b[0;31m                 \u001b[0;32mfor\u001b[0m \u001b[0mchild\u001b[0m \u001b[0;32min\u001b[0m \u001b[0mv\u001b[0m\u001b[0;34m.\u001b[0m\u001b[0m_prev\u001b[0m\u001b[0;34m:\u001b[0m\u001b[0;34m\u001b[0m\u001b[0;34m\u001b[0m\u001b[0m\n\u001b[0m\u001b[1;32m     97\u001b[0m                     \u001b[0mbuild_topo\u001b[0m\u001b[0;34m(\u001b[0m\u001b[0mchild\u001b[0m\u001b[0;34m)\u001b[0m\u001b[0;34m\u001b[0m\u001b[0;34m\u001b[0m\u001b[0m\n\u001b[1;32m     98\u001b[0m                 \u001b[0mtopo\u001b[0m\u001b[0;34m.\u001b[0m\u001b[0mappend\u001b[0m\u001b[0;34m(\u001b[0m\u001b[0mv\u001b[0m\u001b[0;34m)\u001b[0m\u001b[0;34m\u001b[0m\u001b[0;34m\u001b[0m\u001b[0m\n",
      "\u001b[0;31mAttributeError\u001b[0m: 'int' object has no attribute '_prev'"
     ]
    }
   ],
   "source": [
    "loss.backward()"
   ]
  },
  {
   "cell_type": "code",
   "execution_count": 107,
   "metadata": {},
   "outputs": [
    {
     "data": {
      "text/plain": [
       "37"
      ]
     },
     "execution_count": 107,
     "metadata": {},
     "output_type": "execute_result"
    }
   ],
   "source": [
    "len(n.parameters())"
   ]
  },
  {
   "cell_type": "code",
   "execution_count": 110,
   "metadata": {},
   "outputs": [],
   "source": [
    "lr = 0.01"
   ]
  },
  {
   "cell_type": "code",
   "execution_count": 112,
   "metadata": {},
   "outputs": [],
   "source": [
    "for p in n.parameters():\n",
    "    p.data += -lr * p.grad"
   ]
  },
  {
   "cell_type": "code",
   "execution_count": 116,
   "metadata": {},
   "outputs": [
    {
     "ename": "AttributeError",
     "evalue": "'int' object has no attribute '_prev'",
     "output_type": "error",
     "traceback": [
      "\u001b[0;31m---------------------------------------------------------------------------\u001b[0m",
      "\u001b[0;31mAttributeError\u001b[0m                            Traceback (most recent call last)",
      "\u001b[0;32m/tmp/ipykernel_200762/2133159595.py\u001b[0m in \u001b[0;36m<module>\u001b[0;34m\u001b[0m\n\u001b[1;32m      6\u001b[0m \u001b[0;34m\u001b[0m\u001b[0m\n\u001b[1;32m      7\u001b[0m     \u001b[0;31m# backward pass\u001b[0m\u001b[0;34m\u001b[0m\u001b[0;34m\u001b[0m\u001b[0m\n\u001b[0;32m----> 8\u001b[0;31m     \u001b[0mloss\u001b[0m\u001b[0;34m.\u001b[0m\u001b[0mbackward\u001b[0m\u001b[0;34m(\u001b[0m\u001b[0;34m)\u001b[0m\u001b[0;34m\u001b[0m\u001b[0;34m\u001b[0m\u001b[0m\n\u001b[0m\u001b[1;32m      9\u001b[0m \u001b[0;34m\u001b[0m\u001b[0m\n\u001b[1;32m     10\u001b[0m     \u001b[0;31m# update params\u001b[0m\u001b[0;34m\u001b[0m\u001b[0;34m\u001b[0m\u001b[0m\n",
      "\u001b[0;32m/tmp/ipykernel_200762/2174046783.py\u001b[0m in \u001b[0;36mbackward\u001b[0;34m(self)\u001b[0m\n\u001b[1;32m     98\u001b[0m                 \u001b[0mtopo\u001b[0m\u001b[0;34m.\u001b[0m\u001b[0mappend\u001b[0m\u001b[0;34m(\u001b[0m\u001b[0mv\u001b[0m\u001b[0;34m)\u001b[0m\u001b[0;34m\u001b[0m\u001b[0;34m\u001b[0m\u001b[0m\n\u001b[1;32m     99\u001b[0m \u001b[0;34m\u001b[0m\u001b[0m\n\u001b[0;32m--> 100\u001b[0;31m         \u001b[0mbuild_topo\u001b[0m\u001b[0;34m(\u001b[0m\u001b[0mself\u001b[0m\u001b[0;34m)\u001b[0m\u001b[0;34m\u001b[0m\u001b[0;34m\u001b[0m\u001b[0m\n\u001b[0m\u001b[1;32m    101\u001b[0m         \u001b[0mself\u001b[0m\u001b[0;34m.\u001b[0m\u001b[0mgrad\u001b[0m \u001b[0;34m=\u001b[0m \u001b[0;36m1.\u001b[0m\u001b[0;34m\u001b[0m\u001b[0;34m\u001b[0m\u001b[0m\n\u001b[1;32m    102\u001b[0m \u001b[0;34m\u001b[0m\u001b[0m\n",
      "\u001b[0;32m/tmp/ipykernel_200762/2174046783.py\u001b[0m in \u001b[0;36mbuild_topo\u001b[0;34m(v)\u001b[0m\n\u001b[1;32m     95\u001b[0m                 \u001b[0mvisited\u001b[0m\u001b[0;34m.\u001b[0m\u001b[0madd\u001b[0m\u001b[0;34m(\u001b[0m\u001b[0mv\u001b[0m\u001b[0;34m)\u001b[0m\u001b[0;34m\u001b[0m\u001b[0;34m\u001b[0m\u001b[0m\n\u001b[1;32m     96\u001b[0m                 \u001b[0;32mfor\u001b[0m \u001b[0mchild\u001b[0m \u001b[0;32min\u001b[0m \u001b[0mv\u001b[0m\u001b[0;34m.\u001b[0m\u001b[0m_prev\u001b[0m\u001b[0;34m:\u001b[0m\u001b[0;34m\u001b[0m\u001b[0;34m\u001b[0m\u001b[0m\n\u001b[0;32m---> 97\u001b[0;31m                     \u001b[0mbuild_topo\u001b[0m\u001b[0;34m(\u001b[0m\u001b[0mchild\u001b[0m\u001b[0;34m)\u001b[0m\u001b[0;34m\u001b[0m\u001b[0;34m\u001b[0m\u001b[0m\n\u001b[0m\u001b[1;32m     98\u001b[0m                 \u001b[0mtopo\u001b[0m\u001b[0;34m.\u001b[0m\u001b[0mappend\u001b[0m\u001b[0;34m(\u001b[0m\u001b[0mv\u001b[0m\u001b[0;34m)\u001b[0m\u001b[0;34m\u001b[0m\u001b[0;34m\u001b[0m\u001b[0m\n\u001b[1;32m     99\u001b[0m \u001b[0;34m\u001b[0m\u001b[0m\n",
      "\u001b[0;32m/tmp/ipykernel_200762/2174046783.py\u001b[0m in \u001b[0;36mbuild_topo\u001b[0;34m(v)\u001b[0m\n\u001b[1;32m     95\u001b[0m                 \u001b[0mvisited\u001b[0m\u001b[0;34m.\u001b[0m\u001b[0madd\u001b[0m\u001b[0;34m(\u001b[0m\u001b[0mv\u001b[0m\u001b[0;34m)\u001b[0m\u001b[0;34m\u001b[0m\u001b[0;34m\u001b[0m\u001b[0m\n\u001b[1;32m     96\u001b[0m                 \u001b[0;32mfor\u001b[0m \u001b[0mchild\u001b[0m \u001b[0;32min\u001b[0m \u001b[0mv\u001b[0m\u001b[0;34m.\u001b[0m\u001b[0m_prev\u001b[0m\u001b[0;34m:\u001b[0m\u001b[0;34m\u001b[0m\u001b[0;34m\u001b[0m\u001b[0m\n\u001b[0;32m---> 97\u001b[0;31m                     \u001b[0mbuild_topo\u001b[0m\u001b[0;34m(\u001b[0m\u001b[0mchild\u001b[0m\u001b[0;34m)\u001b[0m\u001b[0;34m\u001b[0m\u001b[0;34m\u001b[0m\u001b[0m\n\u001b[0m\u001b[1;32m     98\u001b[0m                 \u001b[0mtopo\u001b[0m\u001b[0;34m.\u001b[0m\u001b[0mappend\u001b[0m\u001b[0;34m(\u001b[0m\u001b[0mv\u001b[0m\u001b[0;34m)\u001b[0m\u001b[0;34m\u001b[0m\u001b[0;34m\u001b[0m\u001b[0m\n\u001b[1;32m     99\u001b[0m \u001b[0;34m\u001b[0m\u001b[0m\n",
      "\u001b[0;32m/tmp/ipykernel_200762/2174046783.py\u001b[0m in \u001b[0;36mbuild_topo\u001b[0;34m(v)\u001b[0m\n\u001b[1;32m     95\u001b[0m                 \u001b[0mvisited\u001b[0m\u001b[0;34m.\u001b[0m\u001b[0madd\u001b[0m\u001b[0;34m(\u001b[0m\u001b[0mv\u001b[0m\u001b[0;34m)\u001b[0m\u001b[0;34m\u001b[0m\u001b[0;34m\u001b[0m\u001b[0m\n\u001b[1;32m     96\u001b[0m                 \u001b[0;32mfor\u001b[0m \u001b[0mchild\u001b[0m \u001b[0;32min\u001b[0m \u001b[0mv\u001b[0m\u001b[0;34m.\u001b[0m\u001b[0m_prev\u001b[0m\u001b[0;34m:\u001b[0m\u001b[0;34m\u001b[0m\u001b[0;34m\u001b[0m\u001b[0m\n\u001b[0;32m---> 97\u001b[0;31m                     \u001b[0mbuild_topo\u001b[0m\u001b[0;34m(\u001b[0m\u001b[0mchild\u001b[0m\u001b[0;34m)\u001b[0m\u001b[0;34m\u001b[0m\u001b[0;34m\u001b[0m\u001b[0m\n\u001b[0m\u001b[1;32m     98\u001b[0m                 \u001b[0mtopo\u001b[0m\u001b[0;34m.\u001b[0m\u001b[0mappend\u001b[0m\u001b[0;34m(\u001b[0m\u001b[0mv\u001b[0m\u001b[0;34m)\u001b[0m\u001b[0;34m\u001b[0m\u001b[0;34m\u001b[0m\u001b[0m\n\u001b[1;32m     99\u001b[0m \u001b[0;34m\u001b[0m\u001b[0m\n",
      "\u001b[0;32m/tmp/ipykernel_200762/2174046783.py\u001b[0m in \u001b[0;36mbuild_topo\u001b[0;34m(v)\u001b[0m\n\u001b[1;32m     95\u001b[0m                 \u001b[0mvisited\u001b[0m\u001b[0;34m.\u001b[0m\u001b[0madd\u001b[0m\u001b[0;34m(\u001b[0m\u001b[0mv\u001b[0m\u001b[0;34m)\u001b[0m\u001b[0;34m\u001b[0m\u001b[0;34m\u001b[0m\u001b[0m\n\u001b[1;32m     96\u001b[0m                 \u001b[0;32mfor\u001b[0m \u001b[0mchild\u001b[0m \u001b[0;32min\u001b[0m \u001b[0mv\u001b[0m\u001b[0;34m.\u001b[0m\u001b[0m_prev\u001b[0m\u001b[0;34m:\u001b[0m\u001b[0;34m\u001b[0m\u001b[0;34m\u001b[0m\u001b[0m\n\u001b[0;32m---> 97\u001b[0;31m                     \u001b[0mbuild_topo\u001b[0m\u001b[0;34m(\u001b[0m\u001b[0mchild\u001b[0m\u001b[0;34m)\u001b[0m\u001b[0;34m\u001b[0m\u001b[0;34m\u001b[0m\u001b[0m\n\u001b[0m\u001b[1;32m     98\u001b[0m                 \u001b[0mtopo\u001b[0m\u001b[0;34m.\u001b[0m\u001b[0mappend\u001b[0m\u001b[0;34m(\u001b[0m\u001b[0mv\u001b[0m\u001b[0;34m)\u001b[0m\u001b[0;34m\u001b[0m\u001b[0;34m\u001b[0m\u001b[0m\n\u001b[1;32m     99\u001b[0m \u001b[0;34m\u001b[0m\u001b[0m\n",
      "\u001b[0;32m/tmp/ipykernel_200762/2174046783.py\u001b[0m in \u001b[0;36mbuild_topo\u001b[0;34m(v)\u001b[0m\n\u001b[1;32m     95\u001b[0m                 \u001b[0mvisited\u001b[0m\u001b[0;34m.\u001b[0m\u001b[0madd\u001b[0m\u001b[0;34m(\u001b[0m\u001b[0mv\u001b[0m\u001b[0;34m)\u001b[0m\u001b[0;34m\u001b[0m\u001b[0;34m\u001b[0m\u001b[0m\n\u001b[1;32m     96\u001b[0m                 \u001b[0;32mfor\u001b[0m \u001b[0mchild\u001b[0m \u001b[0;32min\u001b[0m \u001b[0mv\u001b[0m\u001b[0;34m.\u001b[0m\u001b[0m_prev\u001b[0m\u001b[0;34m:\u001b[0m\u001b[0;34m\u001b[0m\u001b[0;34m\u001b[0m\u001b[0m\n\u001b[0;32m---> 97\u001b[0;31m                     \u001b[0mbuild_topo\u001b[0m\u001b[0;34m(\u001b[0m\u001b[0mchild\u001b[0m\u001b[0;34m)\u001b[0m\u001b[0;34m\u001b[0m\u001b[0;34m\u001b[0m\u001b[0m\n\u001b[0m\u001b[1;32m     98\u001b[0m                 \u001b[0mtopo\u001b[0m\u001b[0;34m.\u001b[0m\u001b[0mappend\u001b[0m\u001b[0;34m(\u001b[0m\u001b[0mv\u001b[0m\u001b[0;34m)\u001b[0m\u001b[0;34m\u001b[0m\u001b[0;34m\u001b[0m\u001b[0m\n\u001b[1;32m     99\u001b[0m \u001b[0;34m\u001b[0m\u001b[0m\n",
      "\u001b[0;32m/tmp/ipykernel_200762/2174046783.py\u001b[0m in \u001b[0;36mbuild_topo\u001b[0;34m(v)\u001b[0m\n\u001b[1;32m     95\u001b[0m                 \u001b[0mvisited\u001b[0m\u001b[0;34m.\u001b[0m\u001b[0madd\u001b[0m\u001b[0;34m(\u001b[0m\u001b[0mv\u001b[0m\u001b[0;34m)\u001b[0m\u001b[0;34m\u001b[0m\u001b[0;34m\u001b[0m\u001b[0m\n\u001b[1;32m     96\u001b[0m                 \u001b[0;32mfor\u001b[0m \u001b[0mchild\u001b[0m \u001b[0;32min\u001b[0m \u001b[0mv\u001b[0m\u001b[0;34m.\u001b[0m\u001b[0m_prev\u001b[0m\u001b[0;34m:\u001b[0m\u001b[0;34m\u001b[0m\u001b[0;34m\u001b[0m\u001b[0m\n\u001b[0;32m---> 97\u001b[0;31m                     \u001b[0mbuild_topo\u001b[0m\u001b[0;34m(\u001b[0m\u001b[0mchild\u001b[0m\u001b[0;34m)\u001b[0m\u001b[0;34m\u001b[0m\u001b[0;34m\u001b[0m\u001b[0m\n\u001b[0m\u001b[1;32m     98\u001b[0m                 \u001b[0mtopo\u001b[0m\u001b[0;34m.\u001b[0m\u001b[0mappend\u001b[0m\u001b[0;34m(\u001b[0m\u001b[0mv\u001b[0m\u001b[0;34m)\u001b[0m\u001b[0;34m\u001b[0m\u001b[0;34m\u001b[0m\u001b[0m\n\u001b[1;32m     99\u001b[0m \u001b[0;34m\u001b[0m\u001b[0m\n",
      "\u001b[0;32m/tmp/ipykernel_200762/2174046783.py\u001b[0m in \u001b[0;36mbuild_topo\u001b[0;34m(v)\u001b[0m\n\u001b[1;32m     94\u001b[0m             \u001b[0;32mif\u001b[0m \u001b[0mv\u001b[0m \u001b[0;32mnot\u001b[0m \u001b[0;32min\u001b[0m \u001b[0mvisited\u001b[0m\u001b[0;34m:\u001b[0m\u001b[0;34m\u001b[0m\u001b[0;34m\u001b[0m\u001b[0m\n\u001b[1;32m     95\u001b[0m                 \u001b[0mvisited\u001b[0m\u001b[0;34m.\u001b[0m\u001b[0madd\u001b[0m\u001b[0;34m(\u001b[0m\u001b[0mv\u001b[0m\u001b[0;34m)\u001b[0m\u001b[0;34m\u001b[0m\u001b[0;34m\u001b[0m\u001b[0m\n\u001b[0;32m---> 96\u001b[0;31m                 \u001b[0;32mfor\u001b[0m \u001b[0mchild\u001b[0m \u001b[0;32min\u001b[0m \u001b[0mv\u001b[0m\u001b[0;34m.\u001b[0m\u001b[0m_prev\u001b[0m\u001b[0;34m:\u001b[0m\u001b[0;34m\u001b[0m\u001b[0;34m\u001b[0m\u001b[0m\n\u001b[0m\u001b[1;32m     97\u001b[0m                     \u001b[0mbuild_topo\u001b[0m\u001b[0;34m(\u001b[0m\u001b[0mchild\u001b[0m\u001b[0;34m)\u001b[0m\u001b[0;34m\u001b[0m\u001b[0;34m\u001b[0m\u001b[0m\n\u001b[1;32m     98\u001b[0m                 \u001b[0mtopo\u001b[0m\u001b[0;34m.\u001b[0m\u001b[0mappend\u001b[0m\u001b[0;34m(\u001b[0m\u001b[0mv\u001b[0m\u001b[0;34m)\u001b[0m\u001b[0;34m\u001b[0m\u001b[0;34m\u001b[0m\u001b[0m\n",
      "\u001b[0;31mAttributeError\u001b[0m: 'int' object has no attribute '_prev'"
     ]
    }
   ],
   "source": [
    "for k in range(10):\n",
    "\n",
    "    # forward pass\n",
    "    y_pred = [n(x) for x in xs]\n",
    "    loss = sum((y_p - y_t)**2 for y_p, y_t in zip(y_pred, ys)) / len(y_pred)\n",
    "\n",
    "    # backward pass\n",
    "    for p in n.parameters():\n",
    "        p.grad = 0.\n",
    "\n",
    "    loss.backward()\n",
    "\n",
    "    # update params\n",
    "    for p in n.parameters():\n",
    "        p.data += -lr * p.grad\n",
    "\n",
    "    print(k, loss.data)    \n",
    "\n",
    "\n",
    "    \n",
    "    "
   ]
  },
  {
   "cell_type": "code",
   "execution_count": null,
   "metadata": {},
   "outputs": [],
   "source": []
  }
 ],
 "metadata": {
  "kernelspec": {
   "display_name": "Python 3.9.7 ('exps')",
   "language": "python",
   "name": "python3"
  },
  "language_info": {
   "codemirror_mode": {
    "name": "ipython",
    "version": 3
   },
   "file_extension": ".py",
   "mimetype": "text/x-python",
   "name": "python",
   "nbconvert_exporter": "python",
   "pygments_lexer": "ipython3",
   "version": "3.9.7"
  },
  "orig_nbformat": 4,
  "vscode": {
   "interpreter": {
    "hash": "1bd9a7837112e3c677dc6441e3382ca35d49b41dec56a9c5676f1bd554345e28"
   }
  }
 },
 "nbformat": 4,
 "nbformat_minor": 2
}
